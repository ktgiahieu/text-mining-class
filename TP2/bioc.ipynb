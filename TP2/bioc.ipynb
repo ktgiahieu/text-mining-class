{
 "cells": [
  {
   "cell_type": "code",
   "execution_count": 2,
   "metadata": {},
   "outputs": [
    {
     "name": "stdout",
     "output_type": "stream",
     "text": [
      "Collecting bioc\n",
      "  Downloading bioc-2.1-py3-none-any.whl.metadata (4.6 kB)\n",
      "Requirement already satisfied: lxml>=4.6.3 in /Users/ktgiahieu/miniconda3/lib/python3.10/site-packages (from bioc) (4.9.3)\n",
      "Collecting jsonlines>=1.2.0 (from bioc)\n",
      "  Downloading jsonlines-4.0.0-py3-none-any.whl.metadata (1.6 kB)\n",
      "Requirement already satisfied: intervaltree in /Users/ktgiahieu/miniconda3/lib/python3.10/site-packages (from bioc) (3.1.0)\n",
      "Requirement already satisfied: tqdm in /Users/ktgiahieu/miniconda3/lib/python3.10/site-packages (from bioc) (4.65.0)\n",
      "Collecting docopt (from bioc)\n",
      "  Downloading docopt-0.6.2.tar.gz (25 kB)\n",
      "  Preparing metadata (setup.py) ... \u001b[?25ldone\n",
      "\u001b[?25hRequirement already satisfied: attrs>=19.2.0 in /Users/ktgiahieu/miniconda3/lib/python3.10/site-packages (from jsonlines>=1.2.0->bioc) (23.1.0)\n",
      "Requirement already satisfied: sortedcontainers<3.0,>=2.0 in /Users/ktgiahieu/miniconda3/lib/python3.10/site-packages (from intervaltree->bioc) (2.4.0)\n",
      "Downloading bioc-2.1-py3-none-any.whl (33 kB)\n",
      "Downloading jsonlines-4.0.0-py3-none-any.whl (8.7 kB)\n",
      "Building wheels for collected packages: docopt\n",
      "  Building wheel for docopt (setup.py) ... \u001b[?25ldone\n",
      "\u001b[?25h  Created wheel for docopt: filename=docopt-0.6.2-py2.py3-none-any.whl size=13705 sha256=ac1b071fb19ef44f4edb6b9adbe9dd328a94aba0fe696fcd53db26e5c8796f73\n",
      "  Stored in directory: /Users/ktgiahieu/Library/Caches/pip/wheels/fc/ab/d4/5da2067ac95b36618c629a5f93f809425700506f72c9732fac\n",
      "Successfully built docopt\n",
      "Installing collected packages: docopt, jsonlines, bioc\n",
      "Successfully installed bioc-2.1 docopt-0.6.2 jsonlines-4.0.0\n"
     ]
    }
   ],
   "source": [
    "!pip install bioc"
   ]
  },
  {
   "cell_type": "code",
   "execution_count": null,
   "metadata": {},
   "outputs": [],
   "source": [
    "from bioc import biocxml\n",
    "# Serialize ``collection`` as a BioC formatted stream to ``fp``.\n",
    "with open(filename, 'w') as fp:\n",
    "    biocxml.dump(collection, fp)"
   ]
  }
 ],
 "metadata": {
  "kernelspec": {
   "display_name": "base",
   "language": "python",
   "name": "python3"
  },
  "language_info": {
   "codemirror_mode": {
    "name": "ipython",
    "version": 3
   },
   "file_extension": ".py",
   "mimetype": "text/x-python",
   "name": "python",
   "nbconvert_exporter": "python",
   "pygments_lexer": "ipython3",
   "version": "3.10.13"
  }
 },
 "nbformat": 4,
 "nbformat_minor": 2
}
