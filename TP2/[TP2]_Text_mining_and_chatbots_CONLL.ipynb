{
  "cells": [
    {
      "cell_type": "markdown",
      "metadata": {
        "id": "OK9DUA1qI6A8"
      },
      "source": [
        "# TP2 - Text-mining and chatbots [CONLL]\n",
        "**Students**:\n",
        "- Thanh Gia Hieu KHUONG\n",
        "- Ragi BHATT\n",
        "- Benedictus Kent RACHMAT"
      ]
    },
    {
      "cell_type": "markdown",
      "metadata": {
        "id": "kFgJZ-P3JNNZ"
      },
      "source": [
        "## Download the dataset"
      ]
    },
    {
      "cell_type": "code",
      "execution_count": null,
      "metadata": {
        "id": "j9PHzykPJsmS"
      },
      "outputs": [],
      "source": [
        "%%bash\n",
        "\n",
        "git clone --quiet https://github.com/ktgiahieu/text-mining-class.git\n",
        "unzip -q /content/text-mining-class/TP2/QUAERO_FrenchMed_TP2021.zip"
      ]
    },
    {
      "cell_type": "code",
      "execution_count": 66,
      "metadata": {},
      "outputs": [],
      "source": [
        "PATH=\"/content/QUAERO_FrenchMed_TP2021\""
      ]
    },
    {
      "cell_type": "markdown",
      "metadata": {
        "id": "O0RN5dC7KCkz"
      },
      "source": [
        "## Import"
      ]
    },
    {
      "cell_type": "code",
      "execution_count": 67,
      "metadata": {
        "id": "JE07vESoJ8WX"
      },
      "outputs": [],
      "source": [
        "from collections import defaultdict\n",
        "import matplotlib.pyplot as plt\n",
        "import pandas as pd\n",
        "import numpy as np\n",
        "import os"
      ]
    },
    {
      "cell_type": "code",
      "execution_count": 68,
      "metadata": {
        "id": "sEEKFC3dN5oY"
      },
      "outputs": [],
      "source": [
        "def get_statistics(dataset_dir):\n",
        "  statistics = {}\n",
        "  for split in ['train', 'dev', 'test']:\n",
        "    for subset in ['EMEA', 'MEDLINE']:\n",
        "      split_dir = os.path.join(dataset_dir, split, subset)\n",
        "\n",
        "      if not os.path.exists(split_dir):\n",
        "        continue\n",
        "\n",
        "      # Iterate over each file in the split directory\n",
        "      for file in os.listdir(split_dir):\n",
        "          file_path = os.path.join(split_dir, file)\n",
        "\n",
        "          conll_df = pd.read_csv(file_path, sep='\\t', header=None, names=['entity', 'start', 'end', 'token'])\n",
        "\n",
        "          conll_df.dropna(inplace=True)\n",
        "          conll_df.reset_index(drop=True, inplace=True)\n",
        "\n",
        "          # Number of tokens\n",
        "          num_tokens = conll_df.shape[0]\n",
        "\n",
        "          # Number of entities\n",
        "          entities = conll_df[conll_df['entity'] != 'O'][['entity', 'token']]\n",
        "          num_entities = len(entities)\n",
        "          num_entities_types = len(entities['entity'].unique())\n",
        "\n",
        "          # Number of unique entities\n",
        "          entities.drop_duplicates(inplace=True)\n",
        "          num_unique_entities = len(entities)\n",
        "\n",
        "          # Number of entities per type\n",
        "          entities_per_type = defaultdict(int)\n",
        "          for entity in entities['entity']:\n",
        "              entities_per_type[entity] += 1\n",
        "\n",
        "          statistics[f\"{subset}_{split}\"] = {\n",
        "              'num_tokens': num_tokens,\n",
        "              'num_entities': num_entities,\n",
        "              'num_unique_entities': num_unique_entities,\n",
        "              'num_entity_types': num_entities_types,\n",
        "              'entities_per_type': entities_per_type\n",
        "          }\n",
        "  return statistics \n",
        "\n",
        "def plot_statistics(statistics, category):\n",
        "    # Define subsets and splits\n",
        "    subsets = ['EMEA', 'MEDLINE']\n",
        "    splits = ['train', 'dev', 'test']\n",
        "    \n",
        "    # Prepare the data for plotting\n",
        "    data = {subset: [statistics[f\"{subset}_{split}\"][category] for split in splits] for subset in subsets}\n",
        "    \n",
        "    # Number of groups and bar width\n",
        "    n_groups = len(splits)\n",
        "    bar_width = 0.35\n",
        "    index = np.arange(n_groups)\n",
        "    \n",
        "    # Create the bar plot\n",
        "    plt.figure(figsize=(10, 5))\n",
        "    for i, (subset, counts) in enumerate(data.items()):\n",
        "        bars = plt.bar(index + i * bar_width, counts, bar_width, label=subset)\n",
        "\n",
        "        for bar in bars:\n",
        "            yval = bar.get_height()\n",
        "            plt.text(bar.get_x() + bar.get_width() / 2, yval, round(yval, 2), \n",
        "                    verticalalignment='bottom', \n",
        "                    horizontalalignment='center',  \n",
        "                    fontsize=8, color='black') # \n",
        "\n",
        "    # Add labels, title, and legend\n",
        "    plt.xlabel('Splits')\n",
        "    plt.ylabel(category.replace('_', ' ').title())\n",
        "    plt.title(f'{category.replace(\"_\", \" \").title()} per Split and Subset')\n",
        "    plt.xticks(index + bar_width / 2, splits)\n",
        "    plt.legend()\n",
        "    plt.tight_layout()\n",
        "    plt.show()"
      ]
    },
    {
      "cell_type": "code",
      "execution_count": 69,
      "metadata": {
        "colab": {
          "base_uri": "https://localhost:8080/",
          "height": 339
        },
        "id": "w8FRtZyzN-g8",
        "outputId": "593ba5c2-0cc7-4701-e7d6-e2da0b602000"
      },
      "outputs": [
        {
          "data": {
            "image/png": "[encoded data removed]",
            "text/plain": [
              "<Figure size 720x360 with 1 Axes>"
            ]
          },
          "metadata": {
            "needs_background": "light"
          },
          "output_type": "display_data"
        },
        {
          "data": {
            "image/png": "[encoded data removed]",
            "text/plain": [
              "<Figure size 720x360 with 1 Axes>"
            ]
          },
          "metadata": {
            "needs_background": "light"
          },
          "output_type": "display_data"
        },
        {
          "data": {
            "image/png": "[encoded data removed]",
            "text/plain": [
              "<Figure size 720x360 with 1 Axes>"
            ]
          },
          "metadata": {
            "needs_background": "light"
          },
          "output_type": "display_data"
        },
        {
          "data": {
            "image/png": "[encoded data removed]",
            "text/plain": [
              "<Figure size 720x360 with 1 Axes>"
            ]
          },
          "metadata": {
            "needs_background": "light"
          },
          "output_type": "display_data"
        }
      ],
      "source": [
        "dataset_statistics = get_statistics(\"QUAERO_FrenchMed_TP2021/QUAERO_FrenchMed_conll/corpus\")\n",
        "for category in ['num_tokens', 'num_entities', 'num_unique_entities', 'num_entity_types']:\n",
        "    plot_statistics(dataset_statistics, category)"
      ]
    },
    {
      "cell_type": "code",
      "execution_count": 70,
      "metadata": {},
      "outputs": [
        {
          "data": {
            "text/plain": [
              "{'EMEA_train': {'num_tokens': 15339,\n",
              "  'num_entities': 3198,\n",
              "  'num_unique_entities': 1037,\n",
              "  'num_entity_types': 20,\n",
              "  'entities_per_type': defaultdict(int,\n",
              "              {'CHEM-B': 122,\n",
              "               'PROC-B': 85,\n",
              "               'CHEM-I': 50,\n",
              "               'DISO-B': 234,\n",
              "               'DISO-I': 178,\n",
              "               'LIVB-B': 49,\n",
              "               'PROC-I': 46,\n",
              "               'ANAT-B': 74,\n",
              "               'ANAT-I': 26,\n",
              "               'DEVI-B': 11,\n",
              "               'OBJC-B': 20,\n",
              "               'LIVB-I': 32,\n",
              "               'PHEN-B': 12,\n",
              "               'PHYS-B': 52,\n",
              "               'PHYS-I': 23,\n",
              "               'PHEN-I': 3,\n",
              "               'GEOG-B': 12,\n",
              "               'GEOG-I': 4,\n",
              "               'OBJC-I': 3,\n",
              "               'DEVI-I': 1})},\n",
              " 'MEDLINE_train': {'num_tokens': 11441,\n",
              "  'num_entities': 3611,\n",
              "  'num_unique_entities': 2547,\n",
              "  'num_entity_types': 20,\n",
              "  'entities_per_type': defaultdict(int,\n",
              "              {'PROC-B': 295,\n",
              "               'DISO-B': 506,\n",
              "               'DISO-I': 400,\n",
              "               'PROC-I': 178,\n",
              "               'CHEM-B': 231,\n",
              "               'ANAT-B': 193,\n",
              "               'CHEM-I': 109,\n",
              "               'ANAT-I': 107,\n",
              "               'LIVB-B': 154,\n",
              "               'PHYS-B': 100,\n",
              "               'PHYS-I': 48,\n",
              "               'PHEN-B': 35,\n",
              "               'PHEN-I': 12,\n",
              "               'OBJC-B': 19,\n",
              "               'OBJC-I': 6,\n",
              "               'DEVI-B': 27,\n",
              "               'DEVI-I': 21,\n",
              "               'LIVB-I': 78,\n",
              "               'GEOG-B': 24,\n",
              "               'GEOG-I': 4})},\n",
              " 'EMEA_dev': {'num_tokens': 13543,\n",
              "  'num_entities': 2704,\n",
              "  'num_unique_entities': 850,\n",
              "  'num_entity_types': 19,\n",
              "  'entities_per_type': defaultdict(int,\n",
              "              {'CHEM-B': 142,\n",
              "               'CHEM-I': 58,\n",
              "               'PROC-B': 47,\n",
              "               'LIVB-B': 43,\n",
              "               'DISO-B': 165,\n",
              "               'DISO-I': 155,\n",
              "               'PROC-I': 31,\n",
              "               'PHYS-B': 62,\n",
              "               'PHYS-I': 18,\n",
              "               'LIVB-I': 19,\n",
              "               'OBJC-B': 19,\n",
              "               'ANAT-B': 41,\n",
              "               'GEOG-B': 12,\n",
              "               'GEOG-I': 3,\n",
              "               'PHEN-B': 6,\n",
              "               'ANAT-I': 14,\n",
              "               'DEVI-B': 7,\n",
              "               'OBJC-I': 7,\n",
              "               'DEVI-I': 1})},\n",
              " 'MEDLINE_dev': {'num_tokens': 11437,\n",
              "  'num_entities': 3568,\n",
              "  'num_unique_entities': 2506,\n",
              "  'num_entity_types': 20,\n",
              "  'entities_per_type': defaultdict(int,\n",
              "              {'PROC-B': 273,\n",
              "               'DISO-B': 475,\n",
              "               'DISO-I': 372,\n",
              "               'PROC-I': 154,\n",
              "               'CHEM-B': 231,\n",
              "               'ANAT-B': 217,\n",
              "               'ANAT-I': 94,\n",
              "               'DEVI-B': 30,\n",
              "               'DEVI-I': 30,\n",
              "               'PHYS-B': 99,\n",
              "               'LIVB-B': 168,\n",
              "               'LIVB-I': 75,\n",
              "               'GEOG-B': 32,\n",
              "               'CHEM-I': 110,\n",
              "               'GEOG-I': 7,\n",
              "               'PHYS-I': 56,\n",
              "               'PHEN-B': 37,\n",
              "               'PHEN-I': 11,\n",
              "               'OBJC-B': 25,\n",
              "               'OBJC-I': 10})},\n",
              " 'EMEA_test': {'num_tokens': 12388,\n",
              "  'num_entities': 2604,\n",
              "  'num_unique_entities': 746,\n",
              "  'num_entity_types': 20,\n",
              "  'entities_per_type': defaultdict(int,\n",
              "              {'CHEM-B': 138,\n",
              "               'DEVI-B': 13,\n",
              "               'DEVI-I': 7,\n",
              "               'PROC-B': 69,\n",
              "               'CHEM-I': 63,\n",
              "               'DISO-B': 111,\n",
              "               'DISO-I': 83,\n",
              "               'LIVB-B': 40,\n",
              "               'LIVB-I': 18,\n",
              "               'ANAT-B': 44,\n",
              "               'OBJC-B': 21,\n",
              "               'PROC-I': 29,\n",
              "               'PHEN-B': 15,\n",
              "               'PHEN-I': 4,\n",
              "               'PHYS-B': 36,\n",
              "               'PHYS-I': 20,\n",
              "               'ANAT-I': 16,\n",
              "               'GEOG-B': 9,\n",
              "               'GEOG-I': 5,\n",
              "               'OBJC-I': 5})},\n",
              " 'MEDLINE_test': {'num_tokens': 11852,\n",
              "  'num_entities': 3811,\n",
              "  'num_unique_entities': 2645,\n",
              "  'num_entity_types': 20,\n",
              "  'entities_per_type': defaultdict(int,\n",
              "              {'PROC-B': 290,\n",
              "               'LIVB-B': 169,\n",
              "               'DISO-B': 521,\n",
              "               'DISO-I': 468,\n",
              "               'OBJC-B': 26,\n",
              "               'ANAT-B': 211,\n",
              "               'CHEM-B': 231,\n",
              "               'ANAT-I': 102,\n",
              "               'DEVI-B': 29,\n",
              "               'DEVI-I': 20,\n",
              "               'LIVB-I': 62,\n",
              "               'CHEM-I': 106,\n",
              "               'PHYS-B': 94,\n",
              "               'GEOG-B': 38,\n",
              "               'GEOG-I': 14,\n",
              "               'PHEN-B': 37,\n",
              "               'PROC-I': 157,\n",
              "               'PHYS-I': 44,\n",
              "               'OBJC-I': 12,\n",
              "               'PHEN-I': 14})}}"
            ]
          },
          "execution_count": 70,
          "metadata": {},
          "output_type": "execute_result"
        }
      ],
      "source": [
        "dataset_statistics"
      ]
    },
    {
      "cell_type": "markdown",
      "metadata": {},
      "source": [
        "missing entities_per_type plot"
      ]
    }
  ],
  "metadata": {
    "colab": {
      "provenance": []
    },
    "kernelspec": {
      "display_name": "Python 3",
      "name": "python3"
    },
    "language_info": {
      "codemirror_mode": {
        "name": "ipython",
        "version": 3
      },
      "file_extension": ".py",
      "mimetype": "text/x-python",
      "name": "python",
      "nbconvert_exporter": "python",
      "pygments_lexer": "ipython3",
      "version": "3.9.12"
    }
  },
  "nbformat": 4,
  "nbformat_minor": 0
}
