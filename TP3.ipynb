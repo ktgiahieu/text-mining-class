{
  "cells": [
    {
      "cell_type": "markdown",
      "metadata": {
        "id": "OK9DUA1qI6A8"
      },
      "source": [
        "# TP3 - NER in QUAERO French Med\n",
        "\n",
        "**Students**:\n",
        "- Thanh Gia Hieu KHUONG\n",
        "- Ragi BHATT\n",
        "- Benedictus Kent RACHMAT"
      ]
    },
    {
      "cell_type": "code",
      "execution_count": 3,
      "metadata": {},
      "outputs": [
        {
          "name": "stdout",
          "output_type": "stream",
          "text": [
            "Note: you may need to restart the kernel to use updated packages.\n"
          ]
        }
      ],
      "source": [
        "pip install -q sklearn_crfsuite"
      ]
    },
    {
      "cell_type": "code",
      "execution_count": 19,
      "metadata": {
        "id": "j9PHzykPJsmS"
      },
      "outputs": [],
      "source": [
        "import pandas as pd\n",
        "from sklearn.model_selection import train_test_split\n",
        "from sklearn_crfsuite import CRF\n",
        "from sklearn_crfsuite.metrics import flat_classification_report\n",
        "\n",
        "# Define the path to the QUAERO FrenchMed TP2021\n",
        "PATH_DEV=\"TP2/QUAERO_FrenchMed_TP2021/QUAERO_FrenchMed_conll/corpus/dev/EMEA/EMEAdev_layer1.conll\"\n",
        "PATH_TRAIN=f\"TP2/QUAERO_FrenchMed_TP2021/QUAERO_FrenchMed_conll/corpus/train/EMEA/EMEAtrain_layer1.conll\"\n",
        "PATH_TEST=f\"TP2/QUAERO_FrenchMed_TP2021/QUAERO_FrenchMed_conll/corpus/test/EMEA/EMEAtest_layer1.conll\""
      ]
    },
    {
      "cell_type": "code",
      "execution_count": 20,
      "metadata": {},
      "outputs": [],
      "source": [
        "def load_data(file_path):\n",
        "    sentences = []\n",
        "    current_sentence = []\n",
        "    \n",
        "    with open(file_path, 'r', encoding='utf-8') as file:\n",
        "        for line in file:\n",
        "            line = line.strip()\n",
        "            if not line:\n",
        "                if current_sentence:\n",
        "                    sentences.append(current_sentence)\n",
        "                    current_sentence = []\n",
        "            else:\n",
        "                parts = line.split()\n",
        "                token, tag = parts[0], parts[-1]\n",
        "                current_sentence.append((token, tag))\n",
        "        if current_sentence:  # Add any stragglers\n",
        "            sentences.append(current_sentence)\n",
        "            \n",
        "    return sentences"
      ]
    },
    {
      "cell_type": "code",
      "execution_count": 27,
      "metadata": {},
      "outputs": [],
      "source": [
        "train_data = load_data(PATH_TRAIN)\n",
        "test_data = load_data(PATH_TEST)\n",
        "dev_data = load_data(PATH_DEV)"
      ]
    }
  ],
  "metadata": {
    "colab": {
      "provenance": []
    },
    "kernelspec": {
      "display_name": "Python 3",
      "name": "python3"
    },
    "language_info": {
      "codemirror_mode": {
        "name": "ipython",
        "version": 3
      },
      "file_extension": ".py",
      "mimetype": "text/x-python",
      "name": "python",
      "nbconvert_exporter": "python",
      "pygments_lexer": "ipython3",
      "version": "3.9.12"
    }
  },
  "nbformat": 4,
  "nbformat_minor": 0
}
