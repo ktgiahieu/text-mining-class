{
 "cells": [
  {
   "cell_type": "markdown",
   "metadata": {},
   "source": [
    "# TP5 (1) - Dialogue Systems\n",
    "\n",
    "Group members:\n",
    "- Thanh Gia Hieu KHUONG\n",
    "- Ragi BHATT\n",
    "- Benedictus Kent RACHMAT "
   ]
  },
  {
   "cell_type": "code",
   "execution_count": null,
   "metadata": {},
   "outputs": [
    {
     "name": "stdout",
     "output_type": "stream",
     "text": [
      "Requirement already satisfied: datasets in /home/gerald/miniconda3/envs/chatbot/lib/python3.11/site-packages (2.16.1)\n",
      "Requirement already satisfied: pandas in /home/gerald/miniconda3/envs/chatbot/lib/python3.11/site-packages (2.2.0)\n",
      "Requirement already satisfied: matplotlib in /home/gerald/miniconda3/envs/chatbot/lib/python3.11/site-packages (3.8.2)\n",
      "Requirement already satisfied: scikit-learn in /home/gerald/miniconda3/envs/chatbot/lib/python3.11/site-packages (1.4.0)\n",
      "Requirement already satisfied: transformers in /home/gerald/miniconda3/envs/chatbot/lib/python3.11/site-packages (4.37.2)\n",
      "Requirement already satisfied: rouge in /home/gerald/miniconda3/envs/chatbot/lib/python3.11/site-packages (1.0.1)\n",
      "Requirement already satisfied: evaluate in /home/gerald/miniconda3/envs/chatbot/lib/python3.11/site-packages (0.4.1)\n",
      "Requirement already satisfied: tqdm in /home/gerald/miniconda3/envs/chatbot/lib/python3.11/site-packages (4.66.1)\n",
      "Requirement already satisfied: filelock in /home/gerald/miniconda3/envs/chatbot/lib/python3.11/site-packages (from datasets) (3.13.1)\n",
      "Requirement already satisfied: numpy>=1.17 in /home/gerald/miniconda3/envs/chatbot/lib/python3.11/site-packages (from datasets) (1.26.4)\n",
      "Requirement already satisfied: pyarrow>=8.0.0 in /home/gerald/miniconda3/envs/chatbot/lib/python3.11/site-packages (from datasets) (15.0.0)\n",
      "Requirement already satisfied: pyarrow-hotfix in /home/gerald/miniconda3/envs/chatbot/lib/python3.11/site-packages (from datasets) (0.6)\n",
      "Requirement already satisfied: dill<0.3.8,>=0.3.0 in /home/gerald/miniconda3/envs/chatbot/lib/python3.11/site-packages (from datasets) (0.3.7)\n",
      "Requirement already satisfied: requests>=2.19.0 in /home/gerald/miniconda3/envs/chatbot/lib/python3.11/site-packages (from datasets) (2.31.0)\n",
      "Requirement already satisfied: xxhash in /home/gerald/miniconda3/envs/chatbot/lib/python3.11/site-packages (from datasets) (3.4.1)\n",
      "Requirement already satisfied: multiprocess in /home/gerald/miniconda3/envs/chatbot/lib/python3.11/site-packages (from datasets) (0.70.15)\n",
      "Requirement already satisfied: fsspec<=2023.10.0,>=2023.1.0 in /home/gerald/miniconda3/envs/chatbot/lib/python3.11/site-packages (from fsspec[http]<=2023.10.0,>=2023.1.0->datasets) (2023.10.0)\n",
      "Requirement already satisfied: aiohttp in /home/gerald/miniconda3/envs/chatbot/lib/python3.11/site-packages (from datasets) (3.9.3)\n",
      "Requirement already satisfied: huggingface-hub>=0.19.4 in /home/gerald/miniconda3/envs/chatbot/lib/python3.11/site-packages (from datasets) (0.20.3)\n",
      "Requirement already satisfied: packaging in /home/gerald/miniconda3/envs/chatbot/lib/python3.11/site-packages (from datasets) (23.1)\n",
      "Requirement already satisfied: pyyaml>=5.1 in /home/gerald/miniconda3/envs/chatbot/lib/python3.11/site-packages (from datasets) (6.0.1)\n",
      "Requirement already satisfied: python-dateutil>=2.8.2 in /home/gerald/miniconda3/envs/chatbot/lib/python3.11/site-packages (from pandas) (2.8.2)\n",
      "Requirement already satisfied: pytz>=2020.1 in /home/gerald/miniconda3/envs/chatbot/lib/python3.11/site-packages (from pandas) (2023.3.post1)\n",
      "Requirement already satisfied: tzdata>=2022.7 in /home/gerald/miniconda3/envs/chatbot/lib/python3.11/site-packages (from pandas) (2023.4)\n",
      "Requirement already satisfied: contourpy>=1.0.1 in /home/gerald/miniconda3/envs/chatbot/lib/python3.11/site-packages (from matplotlib) (1.2.0)\n",
      "Requirement already satisfied: cycler>=0.10 in /home/gerald/miniconda3/envs/chatbot/lib/python3.11/site-packages (from matplotlib) (0.12.1)\n",
      "Requirement already satisfied: fonttools>=4.22.0 in /home/gerald/miniconda3/envs/chatbot/lib/python3.11/site-packages (from matplotlib) (4.48.1)\n",
      "Requirement already satisfied: kiwisolver>=1.3.1 in /home/gerald/miniconda3/envs/chatbot/lib/python3.11/site-packages (from matplotlib) (1.4.5)\n",
      "Requirement already satisfied: pillow>=8 in /home/gerald/miniconda3/envs/chatbot/lib/python3.11/site-packages (from matplotlib) (10.2.0)\n",
      "Requirement already satisfied: pyparsing>=2.3.1 in /home/gerald/miniconda3/envs/chatbot/lib/python3.11/site-packages (from matplotlib) (3.1.1)\n",
      "Requirement already satisfied: scipy>=1.6.0 in /home/gerald/miniconda3/envs/chatbot/lib/python3.11/site-packages (from scikit-learn) (1.12.0)\n",
      "Requirement already satisfied: joblib>=1.2.0 in /home/gerald/miniconda3/envs/chatbot/lib/python3.11/site-packages (from scikit-learn) (1.3.2)\n",
      "Requirement already satisfied: threadpoolctl>=2.0.0 in /home/gerald/miniconda3/envs/chatbot/lib/python3.11/site-packages (from scikit-learn) (3.2.0)\n",
      "Requirement already satisfied: regex!=2019.12.17 in /home/gerald/miniconda3/envs/chatbot/lib/python3.11/site-packages (from transformers) (2023.12.25)\n",
      "Requirement already satisfied: tokenizers<0.19,>=0.14 in /home/gerald/miniconda3/envs/chatbot/lib/python3.11/site-packages (from transformers) (0.15.1)\n",
      "Requirement already satisfied: safetensors>=0.4.1 in /home/gerald/miniconda3/envs/chatbot/lib/python3.11/site-packages (from transformers) (0.4.2)\n",
      "Requirement already satisfied: six in /home/gerald/miniconda3/envs/chatbot/lib/python3.11/site-packages (from rouge) (1.16.0)\n",
      "Requirement already satisfied: responses<0.19 in /home/gerald/miniconda3/envs/chatbot/lib/python3.11/site-packages (from evaluate) (0.18.0)\n",
      "Requirement already satisfied: aiosignal>=1.1.2 in /home/gerald/miniconda3/envs/chatbot/lib/python3.11/site-packages (from aiohttp->datasets) (1.3.1)\n",
      "Requirement already satisfied: attrs>=17.3.0 in /home/gerald/miniconda3/envs/chatbot/lib/python3.11/site-packages (from aiohttp->datasets) (23.1.0)\n",
      "Requirement already satisfied: frozenlist>=1.1.1 in /home/gerald/miniconda3/envs/chatbot/lib/python3.11/site-packages (from aiohttp->datasets) (1.4.1)\n",
      "Requirement already satisfied: multidict<7.0,>=4.5 in /home/gerald/miniconda3/envs/chatbot/lib/python3.11/site-packages (from aiohttp->datasets) (6.0.5)\n",
      "Requirement already satisfied: yarl<2.0,>=1.0 in /home/gerald/miniconda3/envs/chatbot/lib/python3.11/site-packages (from aiohttp->datasets) (1.9.4)\n",
      "Requirement already satisfied: typing-extensions>=3.7.4.3 in /home/gerald/miniconda3/envs/chatbot/lib/python3.11/site-packages (from huggingface-hub>=0.19.4->datasets) (4.9.0)\n",
      "Requirement already satisfied: charset-normalizer<4,>=2 in /home/gerald/miniconda3/envs/chatbot/lib/python3.11/site-packages (from requests>=2.19.0->datasets) (2.0.4)\n",
      "Requirement already satisfied: idna<4,>=2.5 in /home/gerald/miniconda3/envs/chatbot/lib/python3.11/site-packages (from requests>=2.19.0->datasets) (3.4)\n",
      "Requirement already satisfied: urllib3<3,>=1.21.1 in /home/gerald/miniconda3/envs/chatbot/lib/python3.11/site-packages (from requests>=2.19.0->datasets) (2.1.0)\n",
      "Requirement already satisfied: certifi>=2017.4.17 in /home/gerald/miniconda3/envs/chatbot/lib/python3.11/site-packages (from requests>=2.19.0->datasets) (2024.2.2)\n"
     ]
    }
   ],
   "source": [
    "!pip install datasets pandas matplotlib scikit-learn transformers rouge evaluate tqdm"
   ]
  },
  {
   "cell_type": "code",
   "execution_count": 3,
   "metadata": {},
   "outputs": [
    {
     "name": "stdout",
     "output_type": "stream",
     "text": [
      "unzip:  cannot find or open 1-IntentAndSlot.zip, 1-IntentAndSlot.zip.zip or 1-IntentAndSlot.zip.ZIP.\n"
     ]
    }
   ],
   "source": [
    "!wget https://gitlab.dsi.universite-paris-saclay.fr/thomas.gerald/textminingandchatbot/-/raw/main/tp/TP-1/tp-content.zip?ref_type=heads&inline=false\n",
    "!unzip tp-content.zip"
   ]
  },
  {
   "cell_type": "markdown",
   "metadata": {},
   "source": [
    "# JOINT INTENT DETECTION AND SLOT FILLING\n",
    "\n",
    "In this application we will develop different NLU systems on the ATIS, SNIPS and MEDIA datasets. The ATIS corpus a flight reservation dialogue dataset, the data are provided in the BIO format. The SNIPS corpus regroup different intent from reservation to playlist management. The MEDIA dataset is a frenc corpus on hotel booking howeve it is noisy (due to audio transcription)\n",
    "Two different approaches will be considered in the current application for intent detection :\n",
    "* Classifier on BOW like features\n",
    "* RNN with word embedding\n",
    "For slot filling the objectives is to implement an RNN (considering same model for intent detection and slot filling)\n"
   ]
  },
  {
   "cell_type": "code",
   "execution_count": 1,
   "metadata": {},
   "outputs": [],
   "source": [
    "import pandas as pd\n",
    "import numpy as np\n",
    "\n",
    "from matplotlib import pyplot as plt\n",
    "from collections import Counter\n",
    "import torch\n",
    "from torch import nn\n",
    "from torch.nn.utils.rnn import pad_sequence"
   ]
  },
  {
   "cell_type": "markdown",
   "metadata": {},
   "source": [
    "##  Part 1 : The dataset\n",
    "\n",
    "Explore the different dataset, how they are annotated and what are their specificities"
   ]
  },
  {
   "cell_type": "code",
   "execution_count": 2,
   "metadata": {},
   "outputs": [],
   "source": [
    "atis_data_path = 'data/NLU/atis-corpus/atis.{}.csv'\n",
    "snips_data_path = 'data/NLU/snips-corpus/snips.{}.csv'\n",
    "media_data_path = 'data/NLU/media_corpus/media.{}.csv'\n",
    "\n",
    "current_data_path = atis_data_path"
   ]
  },
  {
   "cell_type": "code",
   "execution_count": 3,
   "metadata": {},
   "outputs": [],
   "source": [
    "training_set = pd.read_csv(current_data_path.format('train'), index_col='id')\n",
    "validation_set = pd.read_csv(current_data_path.format('dev'), index_col='id')\n",
    "testing_set = pd.read_csv(current_data_path.format('test'), index_col='id')"
   ]
  },
  {
   "cell_type": "markdown",
   "metadata": {},
   "source": [
    "## 1.1 Plotting the data\n",
    "Plot both intent and slots fot the different corpus"
   ]
  },
  {
   "cell_type": "code",
   "execution_count": 4,
   "metadata": {},
   "outputs": [
    {
     "data": {
      "text/plain": [
       "<AxesSubplot:xlabel='intent'>"
      ]
     },
     "execution_count": 4,
     "metadata": {},
     "output_type": "execute_result"
    },
    {
     "data": {
      "image/png": "[encoded data removed]",
      "text/plain": [
       "<Figure size 432x288 with 1 Axes>"
      ]
     },
     "metadata": {
      "needs_background": "light"
     },
     "output_type": "display_data"
    }
   ],
   "source": [
    "training_set.value_counts('intent').plot.bar()"
   ]
  },
  {
   "cell_type": "code",
   "execution_count": 6,
   "metadata": {},
   "outputs": [],
   "source": [
    "raise NotImplementedError('Plot the slots')"
   ]
  },
  {
   "cell_type": "markdown",
   "metadata": {},
   "source": [
    "## 1.2 Datasets characteristics\n",
    "\n",
    "* How many possible intent for each dataset?\n",
    "* How many slots?\n",
    "* how they are distributed ?\n",
    "* What are the most frequents values ? "
   ]
  },
  {
   "cell_type": "markdown",
   "metadata": {},
   "source": [
    "## PART 2 Learning BOW classifiers \n",
    "From the code below propose different classifier for intent (for both snips and atis)"
   ]
  },
  {
   "cell_type": "code",
   "execution_count": null,
   "metadata": {},
   "outputs": [],
   "source": [
    "from sklearn.feature_extraction.text import TfidfTransformer\n",
    "from sklearn.feature_extraction.text import CountVectorizer \n",
    "from sklearn.naive_bayes import MultinomialNB\n",
    "from sklearn.pipeline import Pipeline\n",
    "\n",
    "text_clf = Pipeline([\n",
    "    ('vect', CountVectorizer()),\n",
    "    ('tfidf', TfidfTransformer()),\n",
    "    ('clf', MultinomialNB()),\n",
    "])\n",
    "\n",
    "text_clf.fit(training_set['tokens'], training_set['intent'])\n",
    "'''\n",
    "    COMPLETE HERE\n",
    "'''\n"
   ]
  },
  {
   "cell_type": "code",
   "execution_count": null,
   "metadata": {},
   "outputs": [],
   "source": [
    "raise NotImplementedError('Other appproaches')"
   ]
  },
  {
   "cell_type": "markdown",
   "metadata": {},
   "source": [
    "Fill the following table replacing value and named classifiers\n",
    "\n",
    "| Dataset   | Acc CLS-1 | Acc CLS-2 |Acc CLS-3 |\n",
    "| -------- | ------- |------- |------- |\n",
    "| ATIS  | ???    |???    | ??? |\n",
    "| SNIPS | ???     |???    | ??? |\n",
    "\n"
   ]
  },
  {
   "cell_type": "markdown",
   "metadata": {},
   "source": [
    "## PART 3 Learning RNN\n",
    "\n",
    "### 1.1 Prepare the data and tools\n",
    "The objective of the following question is to prepare the data to run with the model.\n",
    "In this example we will create different component :\n",
    "* intent_encoder (from textual intent return its id)\n",
    "* slot_encoder (from list or string separated by space of textual slot return id)\n",
    "* tokenizer (from list or string separated by space of textual slot return id)\n",
    "* BIONLUDataset a dataset like class returning all the information necessary for training\n",
    "* Dataloader that allow to create batch of the data (usefull for training)"
   ]
  },
  {
   "cell_type": "code",
   "execution_count": null,
   "metadata": {},
   "outputs": [],
   "source": [
    "'''This class encode labels or list of labels given an index\n",
    "'''\n",
    "class LabelEncoder:\n",
    "    def __init__(self, index):\n",
    "        self.index = index\n",
    "        self.iindex = {v: k for k, v in index.items()}\n",
    "    \n",
    "    def get_id_list_from_text(self, text):\n",
    "        return [self.index[w] for w in text.split()]\n",
    "\n",
    "    def get_label_list_from_id(self, label_ids):\n",
    "         return [self.iindex[lid] for lid in label_ids]\n",
    "\n",
    "    def to_label_list(self, text):\n",
    "        return text.split()\n",
    "\n",
    "    # method call can be called by instance_object(parameters)\n",
    "    def __call__(self, text):\n",
    "        return self.get_id_list_from_text(text)"
   ]
  },
  {
   "cell_type": "code",
   "execution_count": null,
   "metadata": {},
   "outputs": [],
   "source": [
    "intent_encoder = LabelEncoder(intent_index)\n",
    "slot_encoder = LabelEncoder(slot_index)"
   ]
  },
  {
   "cell_type": "markdown",
   "metadata": {},
   "source": [
    "### Create a tokenizer\n",
    "Fill the Tokenizer class to transform text tokens into token ids. From a list of words (or string of wards separated by space) return a sequence of ids (each word as a unique id)."
   ]
  },
  {
   "cell_type": "code",
   "execution_count": null,
   "metadata": {},
   "outputs": [],
   "source": [
    "'''This class should tokenize a text or a list of tokens.\n",
    "'''  \n",
    "class Tokenizer:\n",
    "\n",
    "    def __init__(self, list_text, unk_token=\"UNKNOW_WORD\"):\n",
    "        # create a vocbulary index \n",
    "        self.vocab = np.unique([word for text in list_text for word in text.split()])\n",
    "        self.vocab_index = {w: i for i, w in enumerate(self.vocab)}\n",
    "        self.vocab_index[unk_token] = len(self.vocab_index)\n",
    "        self.unk_token = unk_token\n",
    "        \n",
    "    def __call__(self, text):\n",
    "        # return the ids of the text or word sequence\n",
    "        raise NotImplementedError()\n",
    "        \n",
    "    def decode(self, ids):\n",
    "        # from the text ids return a sentence\n",
    "        raise NotImplementedError()\n",
    "        \n",
    "    def __len__(self):\n",
    "        # get the vocabulary lenght\n",
    "        return len(self.vocab)\n"
   ]
  },
  {
   "cell_type": "code",
   "execution_count": null,
   "metadata": {},
   "outputs": [],
   "source": [
    "tokenizer = Tokenizer(\n",
    "    list(training_set['tokens']) + \n",
    "    list(validation_set['tokens']) + \n",
    "    list(testing_set['tokens'])\n",
    ")\n"
   ]
  },
  {
   "cell_type": "markdown",
   "metadata": {},
   "source": [
    "### Create the dataset\n",
    "\n",
    "The dataset class below must return all needed informations for prediction, here the **text** (initial utterance), the intent label name (**i_label**), the list of slots names for the sequence (**s_label**), the text transformed into list of tokens(**x**), the id of the coresponding intent (**i_id**), the list of ids of the coresponding slots names (**s_ids**) and, the len of the squence (the number of words) (**seq_len**).\n"
   ]
  },
  {
   "cell_type": "code",
   "execution_count": null,
   "metadata": {},
   "outputs": [],
   "source": [
    "class BIONLUDataset():\n",
    "    def __init__(self, data, intent_index, slot_index, text_transform):\n",
    "        self.data = data\n",
    "        self.i_enc = LabelEncoder(intent_index)\n",
    "        self.s_enc = LabelEncoder(slot_index)\n",
    "        self.t_transform = text_transform\n",
    "\n",
    "    def __len__(self):\n",
    "        return len(self.data)\n",
    "\n",
    "    def __getitem__(self, index):\n",
    "        row = self.data.iloc[index]\n",
    "        text = row['tokens']\n",
    "        i_label = row['intent']\n",
    "        s_label = row['slots']\n",
    "        \n",
    "        x = self.t_transform(text)\n",
    "        i_id = self.i_enc(i_label)[0]\n",
    "        s_ids = self.s_enc(s_label)\n",
    "        \n",
    "        assert(len(s_ids) == len(x))\n",
    "        \n",
    "        return {'text': text, 'i_label': i_label, 's_labels': s_label,\n",
    "                'x': x, 'i_id': i_id, 's_ids': s_ids, \"seq_len\": len(x)}"
   ]
  },
  {
   "cell_type": "markdown",
   "metadata": {},
   "source": [
    "**Create the different set :** below we create the different, for each we give the set data, the intent_index (to allow to transform intent label to its corresponding id), the slot_index (to transform slot_type to id) and the tokenizer (which simply split text by words and return the sequence of tokens/words ids)."
   ]
  },
  {
   "cell_type": "code",
   "execution_count": null,
   "metadata": {},
   "outputs": [],
   "source": [
    "# create a simple tokenizer on all words of the corpus \n",
    "\n",
    "train = BIONLUDataset(training_set, intent_index, slot_index, tokenizer)\n",
    "val = BIONLUDataset(validation_set, intent_index, slot_index, tokenizer)\n",
    "test = BIONLUDataset(testing_set, intent_index, slot_index, tokenizer)"
   ]
  },
  {
   "cell_type": "markdown",
   "metadata": {},
   "source": [
    "**The collate function:** to load the data as batch we need to return tensors to the pytorch model we will see later. Here we need as input of the model the intents ids, the slots_ids (which is a sequence of the size of text), the input given to the model (named x)."
   ]
  },
  {
   "cell_type": "code",
   "execution_count": null,
   "metadata": {},
   "outputs": [],
   "source": [
    "def rnn_collator(batch):\n",
    "    i_ids = []\n",
    "    seq_len = []\n",
    "    s_ids = []\n",
    "    x = []\n",
    "    mask = []\n",
    "    for item in batch:\n",
    "        i_ids.append(item['i_id'])\n",
    "        s_ids.append(torch.LongTensor(item['s_ids']))\n",
    "        seq_len.append(item['seq_len'])\n",
    "        x.append(torch.Tensor(item['x']))\n",
    "        mask.append(torch.ones(item['seq_len']))\n",
    "\n",
    "    return{\n",
    "        \"i_ids\" : torch.LongTensor(i_ids),\n",
    "        \"s_ids\" : pad_sequence(s_ids, padding_value=-1, batch_first=True),\n",
    "        \"x\" : pad_sequence(x, padding_value=0, batch_first=True),\n",
    "        \"seq_len\" : torch.LongTensor(seq_len), \n",
    "        \"mask\": pad_sequence(mask, padding_value=0, batch_first=True)\n",
    "    }"
   ]
  },
  {
   "cell_type": "code",
   "execution_count": null,
   "metadata": {},
   "outputs": [],
   "source": [
    "from torch.utils.data import DataLoader\n",
    "\n",
    "training_dl = DataLoader(train , batch_size=16,\n",
    "                         collate_fn=rnn_embedding_slot_collator,\n",
    "                         shuffle=True\n",
    "                        )\n",
    "validation_dl = DataLoader(val, batch_size=16,\n",
    "                         collate_fn=rnn_embedding_slot_collator\n",
    "                        )"
   ]
  },
  {
   "cell_type": "markdown",
   "metadata": {},
   "source": [
    "### 1.2 Create the model"
   ]
  },
  {
   "cell_type": "code",
   "execution_count": null,
   "metadata": {},
   "outputs": [],
   "source": [
    "from library.model import IntentSlotRNN\n",
    "class LSTMForClassification(nn.Module):\n",
    "    def __init__(self, vocabulary_size, embedding_size=300, hidden_size=100, n_slot=101, n_intent=17):\n",
    "        super().__init__(self)\n",
    "        self.embedding = nn.Embedding(vocabulary_size, embedding_size)\n",
    "        self.rnn = IntentSlotRNN(embedding_size, hidden_size, n_intent, n_slot)\n",
    "    \n",
    "    def forward(self, input_ids, seq_len, mask=None):\n",
    "        if mask is None:\n",
    "            mask = input_ids.new_ones(input_ids.shape).float()\n",
    "        emb = self.embedding(input_ids)\n",
    "        return self.rnn(emb, seq_len, mask)\n",
    "        "
   ]
  },
  {
   "cell_type": "markdown",
   "metadata": {},
   "source": [
    "### 1.3 Training the model"
   ]
  },
  {
   "cell_type": "code",
   "execution_count": null,
   "metadata": {},
   "outputs": [],
   "source": [
    "from tqdm.notebook import trange, tqdm\n",
    "from torch import optim\n",
    "from torch import nn\n",
    "from model import IntentRNN\n",
    "\n",
    "class Trainer():\n",
    "    def __init__(self, model):\n",
    "        self.model = model \n",
    "        self.optimizer = None\n",
    "\n",
    "    def before_training_loop(self, learning_rate = 1e-3):\n",
    "        self.optimizer = optim.Adam(self.model.parameters(), lr=learning_rate)\n",
    "        self.criterion = nn.CrossEntropyLoss(ignore_index=-1)\n",
    "\n",
    "    def validation_step(self, data):\n",
    "        y_pred = self.model(data[\"x\"], data[\"seq_len\"], data['mask'])    \n",
    "        y_intent_truth = data[\"i_ids\"]\n",
    "        y_slot_truth = data[\"s_ids\"]\n",
    "        #print(y_slot_truth)\n",
    "        y_intent_pred = y_pred[\"y_intent\"]\n",
    "        #print(y_pred[\"y_slot\"].shape)\n",
    "        y_slot_pred = y_pred[\"y_slot\"].view(y_slot_truth.shape[0] * y_slot_truth.shape[-1], -1)\n",
    "        minus_one = (data[\"mask\"] - 1)\n",
    "        y_slot_pred *= data[\"mask\"].view(y_slot_truth.shape[0] * y_slot_truth.shape[-1], -1)\n",
    "        # y_slot_pred += minus_one.view(y_slot_truth.shape[0] * y_slot_truth.shape[-1], -1)\n",
    "        return {\n",
    "            'mask' : minus_one.view(y_slot_truth.shape[0] * y_slot_truth.shape[-1], -1),\n",
    "            'len' : len(data['x']),\n",
    "            'intent_pred': y_intent_pred,\n",
    "            'intent_truth': y_intent_truth,\n",
    "            'slot_pred': y_slot_pred,\n",
    "            'slot_truth': y_slot_truth\n",
    "        }\n",
    "\n",
    "    def training_step(self, data):\n",
    "        y_pred = self.model(data[\"x\"], data[\"seq_len\"], data['mask'])    \n",
    "        y_intent_truth = data[\"i_ids\"]\n",
    "        y_slot_truth = data[\"s_ids\"]\n",
    "        loss_intent = self.criterion(y_pred[\"y_intent\"], y_intent_truth)\n",
    "\n",
    "        y_slot_pred = y_pred[\"y_slot\"].view(y_slot_truth.shape[0] * y_slot_truth.shape[-1], -1)\n",
    "        y_slot_pred *= data[\"mask\"].view(y_slot_truth.shape[0] * y_slot_truth.shape[-1], -1)\n",
    "            \n",
    "        loss_slot = self.criterion(y_slot_pred, y_slot_truth.view(-1))\n",
    "        (loss_slot + loss_intent).backward()\n",
    "        return loss_slot.item() + loss_intent.item()\n",
    "\n",
    "    def on_validation_end(self, resp):\n",
    "        i_truth = [d[\"intent_truth\"] for d in resp]\n",
    "        s_truth = [d[\"slot_truth\"].flatten() for d in resp]\n",
    "        \n",
    "        i_pred = [d[\"intent_pred\"] for d in resp]\n",
    "        s_pred =  [d[\"slot_pred\"].argmax(-1).flatten() + d['mask'].max(-1).values.flatten() for d in resp]\n",
    "        size = sum([d['len'] for d in resp ])\n",
    "        print('Intent validation accuracy : %s'%(((torch.cat(i_pred).argmax(-1) == torch.cat(i_truth)).sum()/size).item(),))\n",
    "        print('Slot validation accuracy : %s'%(((torch.cat(s_pred) == torch.cat(s_truth)).sum()/len(torch.cat(s_truth))).item(),))\n",
    "    \n",
    "    def validation(self, validation_dl):\n",
    "        with torch.no_grad():\n",
    "            resp = []\n",
    "            for data in validation_dl:\n",
    "                resp.append(self.validation_step(data))\n",
    "        self.on_validation_end(resp)\n",
    "\n",
    "\n",
    "\n",
    "    def fit(self, \n",
    "            training_dl,\n",
    "            validation_dl,\n",
    "            learning_rate = 1e-3,\n",
    "            validation_frequency = 128,\n",
    "            max_iter = 10000,\n",
    "        ):\n",
    "\n",
    "        self.before_training_loop(learning_rate)\n",
    "        \n",
    "        iter_count = 0\n",
    "        loss_buffer = []\n",
    "        pbar = trange(max_iter)\n",
    "        \n",
    "        while(True):\n",
    "            for data in training_dl:\n",
    "                self.optimizer.zero_grad()\n",
    "                loss_buffer += [self.training_step(data)]\n",
    "                self.optimizer.step()\n",
    "\n",
    "                if(iter_count  % validation_frequency == 0):\n",
    "                    print(\"Loss at iteration %s is %s\"%(iter_count, np.mean(loss_buffer)))\n",
    "                    self.validation(validation_dl)\n",
    "\n",
    "                iter_count += 1\n",
    "                if(iter_count >= max_iter):\n",
    "                    return\n",
    "                pbar.update(1)"
   ]
  },
  {
   "cell_type": "code",
   "execution_count": null,
   "metadata": {},
   "outputs": [],
   "source": [
    "trainer = Trainer(MyModel(initial_embeddings))\n",
    "trainer.fit(training_dl, validation_dl, validation_frequency=500)"
   ]
  },
  {
   "cell_type": "markdown",
   "metadata": {},
   "source": [
    "### 1.4 Evaluate the model on the test set using accuracy\n",
    "* Hint : see validation step"
   ]
  },
  {
   "cell_type": "code",
   "execution_count": null,
   "metadata": {},
   "outputs": [],
   "source": [
    "class NLU:\n",
    "    def __init__(self, model, intent_encoder, slot_encoder, nlp):\n",
    "        self.nlp = nlp\n",
    "        self.model = model \n",
    "        self.intent_encoder = intent_encoder\n",
    "        self.slot_encoder = slot_encoder\n",
    "    \n",
    "    def __call__(self, text):\n",
    "        input_data = self.nlp(text)\n",
    "        with torch.no_grad():\n",
    "            y = self.model(torch.LongTensor([input_data]),  [len(input_data)])\n",
    "\n",
    "        intent = self.intent_encoder.get_label_list_from_id(y['y_intent'].max(-1)[1].tolist())\n",
    "\n",
    "        slots = self.slot_encoder.get_label_list_from_id(y['y_slot'].max(-1)[1].tolist()[0])\n",
    "        return intent, list(zip(slots, text.split()))"
   ]
  },
  {
   "cell_type": "code",
   "execution_count": null,
   "metadata": {},
   "outputs": [],
   "source": [
    "nlu = NLU(trainer.model, intent_encoder, slot_encoder, naive_tokenizer)\n",
    "nlu('i'm lloking for a good restauranta in chicago')"
   ]
  },
  {
   "cell_type": "code",
   "execution_count": null,
   "metadata": {},
   "outputs": [],
   "source": [
    "raise NotImplementedError"
   ]
  },
  {
   "cell_type": "markdown",
   "metadata": {},
   "source": [
    "### 1.5 Change the model to use pretrained embeddings !\n",
    "* You can use global pretrained embeddings for SNIPS and ATIS\n",
    "* You can use pretrained last week course embeddings for MEDIA !!! \n"
   ]
  },
  {
   "cell_type": "code",
   "execution_count": null,
   "metadata": {},
   "outputs": [],
   "source": []
  }
 ],
 "metadata": {
  "accelerator": "GPU",
  "colab": {
   "authorship_tag": "ABX9TyNS/a2Yg3HaV1/6sqmOr4GR",
   "gpuType": "T4",
   "include_colab_link": true,
   "provenance": []
  },
  "kernelspec": {
   "display_name": "Python 3 (ipykernel)",
   "language": "python",
   "name": "python3"
  },
  "language_info": {
   "codemirror_mode": {
    "name": "ipython",
    "version": 3
   },
   "file_extension": ".py",
   "mimetype": "text/x-python",
   "name": "python",
   "nbconvert_exporter": "python",
   "pygments_lexer": "ipython3",
   "version": "3.9.12"
  },
  "widgets": {
   "application/vnd.jupyter.widget-state+json": {
    "11b8dba1f8894009898f592b28bca05d": {
     "model_module": "@jupyter-widgets/controls",
     "model_module_version": "1.5.0",
     "model_name": "DescriptionStyleModel",
     "state": {
      "_model_module": "@jupyter-widgets/controls",
      "_model_module_version": "1.5.0",
      "_model_name": "DescriptionStyleModel",
      "_view_count": null,
      "_view_module": "@jupyter-widgets/base",
      "_view_module_version": "1.2.0",
      "_view_name": "StyleView",
      "description_width": ""
     }
    },
    "187480090f634458a999041d31807714": {
     "model_module": "@jupyter-widgets/controls",
     "model_module_version": "1.5.0",
     "model_name": "HTMLModel",
     "state": {
      "_dom_classes": [],
      "_model_module": "@jupyter-widgets/controls",
      "_model_module_version": "1.5.0",
      "_model_name": "HTMLModel",
      "_view_count": null,
      "_view_module": "@jupyter-widgets/controls",
      "_view_module_version": "1.5.0",
      "_view_name": "HTMLView",
      "description": "",
      "description_tooltip": null,
      "layout": "IPY_MODEL_87ecdd23e58f4b8295d249c3d8e6077e",
      "placeholder": "​",
      "style": "IPY_MODEL_11b8dba1f8894009898f592b28bca05d",
      "value": "100%"
     }
    },
    "38ce3b07782e41b3b27e54f5816d0b8d": {
     "model_module": "@jupyter-widgets/base",
     "model_module_version": "1.2.0",
     "model_name": "LayoutModel",
     "state": {
      "_model_module": "@jupyter-widgets/base",
      "_model_module_version": "1.2.0",
      "_model_name": "LayoutModel",
      "_view_count": null,
      "_view_module": "@jupyter-widgets/base",
      "_view_module_version": "1.2.0",
      "_view_name": "LayoutView",
      "align_content": null,
      "align_items": null,
      "align_self": null,
      "border": null,
      "bottom": null,
      "display": null,
      "flex": null,
      "flex_flow": null,
      "grid_area": null,
      "grid_auto_columns": null,
      "grid_auto_flow": null,
      "grid_auto_rows": null,
      "grid_column": null,
      "grid_gap": null,
      "grid_row": null,
      "grid_template_areas": null,
      "grid_template_columns": null,
      "grid_template_rows": null,
      "height": null,
      "justify_content": null,
      "justify_items": null,
      "left": null,
      "margin": null,
      "max_height": null,
      "max_width": null,
      "min_height": null,
      "min_width": null,
      "object_fit": null,
      "object_position": null,
      "order": null,
      "overflow": null,
      "overflow_x": null,
      "overflow_y": null,
      "padding": null,
      "right": null,
      "top": null,
      "visibility": null,
      "width": null
     }
    },
    "62f56530a42a4d2d993f70829d18c563": {
     "model_module": "@jupyter-widgets/controls",
     "model_module_version": "1.5.0",
     "model_name": "DescriptionStyleModel",
     "state": {
      "_model_module": "@jupyter-widgets/controls",
      "_model_module_version": "1.5.0",
      "_model_name": "DescriptionStyleModel",
      "_view_count": null,
      "_view_module": "@jupyter-widgets/base",
      "_view_module_version": "1.2.0",
      "_view_name": "StyleView",
      "description_width": ""
     }
    },
    "64da4ffa91de4c12870ccd829905597c": {
     "model_module": "@jupyter-widgets/controls",
     "model_module_version": "1.5.0",
     "model_name": "ProgressStyleModel",
     "state": {
      "_model_module": "@jupyter-widgets/controls",
      "_model_module_version": "1.5.0",
      "_model_name": "ProgressStyleModel",
      "_view_count": null,
      "_view_module": "@jupyter-widgets/base",
      "_view_module_version": "1.2.0",
      "_view_name": "StyleView",
      "bar_color": null,
      "description_width": ""
     }
    },
    "6e7fada25dd94569933bb3c14527dcb8": {
     "model_module": "@jupyter-widgets/controls",
     "model_module_version": "1.5.0",
     "model_name": "HTMLModel",
     "state": {
      "_dom_classes": [],
      "_model_module": "@jupyter-widgets/controls",
      "_model_module_version": "1.5.0",
      "_model_name": "HTMLModel",
      "_view_count": null,
      "_view_module": "@jupyter-widgets/controls",
      "_view_module_version": "1.5.0",
      "_view_name": "HTMLView",
      "description": "",
      "description_tooltip": null,
      "layout": "IPY_MODEL_38ce3b07782e41b3b27e54f5816d0b8d",
      "placeholder": "​",
      "style": "IPY_MODEL_62f56530a42a4d2d993f70829d18c563",
      "value": " 10000/10000 [02:41&lt;00:00, 94.43it/s]"
     }
    },
    "838873ce9ea94fa790a463524c18ffa5": {
     "model_module": "@jupyter-widgets/base",
     "model_module_version": "1.2.0",
     "model_name": "LayoutModel",
     "state": {
      "_model_module": "@jupyter-widgets/base",
      "_model_module_version": "1.2.0",
      "_model_name": "LayoutModel",
      "_view_count": null,
      "_view_module": "@jupyter-widgets/base",
      "_view_module_version": "1.2.0",
      "_view_name": "LayoutView",
      "align_content": null,
      "align_items": null,
      "align_self": null,
      "border": null,
      "bottom": null,
      "display": null,
      "flex": null,
      "flex_flow": null,
      "grid_area": null,
      "grid_auto_columns": null,
      "grid_auto_flow": null,
      "grid_auto_rows": null,
      "grid_column": null,
      "grid_gap": null,
      "grid_row": null,
      "grid_template_areas": null,
      "grid_template_columns": null,
      "grid_template_rows": null,
      "height": null,
      "justify_content": null,
      "justify_items": null,
      "left": null,
      "margin": null,
      "max_height": null,
      "max_width": null,
      "min_height": null,
      "min_width": null,
      "object_fit": null,
      "object_position": null,
      "order": null,
      "overflow": null,
      "overflow_x": null,
      "overflow_y": null,
      "padding": null,
      "right": null,
      "top": null,
      "visibility": null,
      "width": null
     }
    },
    "87ecdd23e58f4b8295d249c3d8e6077e": {
     "model_module": "@jupyter-widgets/base",
     "model_module_version": "1.2.0",
     "model_name": "LayoutModel",
     "state": {
      "_model_module": "@jupyter-widgets/base",
      "_model_module_version": "1.2.0",
      "_model_name": "LayoutModel",
      "_view_count": null,
      "_view_module": "@jupyter-widgets/base",
      "_view_module_version": "1.2.0",
      "_view_name": "LayoutView",
      "align_content": null,
      "align_items": null,
      "align_self": null,
      "border": null,
      "bottom": null,
      "display": null,
      "flex": null,
      "flex_flow": null,
      "grid_area": null,
      "grid_auto_columns": null,
      "grid_auto_flow": null,
      "grid_auto_rows": null,
      "grid_column": null,
      "grid_gap": null,
      "grid_row": null,
      "grid_template_areas": null,
      "grid_template_columns": null,
      "grid_template_rows": null,
      "height": null,
      "justify_content": null,
      "justify_items": null,
      "left": null,
      "margin": null,
      "max_height": null,
      "max_width": null,
      "min_height": null,
      "min_width": null,
      "object_fit": null,
      "object_position": null,
      "order": null,
      "overflow": null,
      "overflow_x": null,
      "overflow_y": null,
      "padding": null,
      "right": null,
      "top": null,
      "visibility": null,
      "width": null
     }
    },
    "945c208409a148809c60485d3826a935": {
     "model_module": "@jupyter-widgets/controls",
     "model_module_version": "1.5.0",
     "model_name": "HBoxModel",
     "state": {
      "_dom_classes": [],
      "_model_module": "@jupyter-widgets/controls",
      "_model_module_version": "1.5.0",
      "_model_name": "HBoxModel",
      "_view_count": null,
      "_view_module": "@jupyter-widgets/controls",
      "_view_module_version": "1.5.0",
      "_view_name": "HBoxView",
      "box_style": "",
      "children": [
       "IPY_MODEL_187480090f634458a999041d31807714",
       "IPY_MODEL_966427dbfc0140109f73ee3cce25928e",
       "IPY_MODEL_6e7fada25dd94569933bb3c14527dcb8"
      ],
      "layout": "IPY_MODEL_c89204b1a50f4915bf96f4cc9280ad0e"
     }
    },
    "966427dbfc0140109f73ee3cce25928e": {
     "model_module": "@jupyter-widgets/controls",
     "model_module_version": "1.5.0",
     "model_name": "FloatProgressModel",
     "state": {
      "_dom_classes": [],
      "_model_module": "@jupyter-widgets/controls",
      "_model_module_version": "1.5.0",
      "_model_name": "FloatProgressModel",
      "_view_count": null,
      "_view_module": "@jupyter-widgets/controls",
      "_view_module_version": "1.5.0",
      "_view_name": "ProgressView",
      "bar_style": "success",
      "description": "",
      "description_tooltip": null,
      "layout": "IPY_MODEL_838873ce9ea94fa790a463524c18ffa5",
      "max": 10000,
      "min": 0,
      "orientation": "horizontal",
      "style": "IPY_MODEL_64da4ffa91de4c12870ccd829905597c",
      "value": 10000
     }
    },
    "c89204b1a50f4915bf96f4cc9280ad0e": {
     "model_module": "@jupyter-widgets/base",
     "model_module_version": "1.2.0",
     "model_name": "LayoutModel",
     "state": {
      "_model_module": "@jupyter-widgets/base",
      "_model_module_version": "1.2.0",
      "_model_name": "LayoutModel",
      "_view_count": null,
      "_view_module": "@jupyter-widgets/base",
      "_view_module_version": "1.2.0",
      "_view_name": "LayoutView",
      "align_content": null,
      "align_items": null,
      "align_self": null,
      "border": null,
      "bottom": null,
      "display": null,
      "flex": null,
      "flex_flow": null,
      "grid_area": null,
      "grid_auto_columns": null,
      "grid_auto_flow": null,
      "grid_auto_rows": null,
      "grid_column": null,
      "grid_gap": null,
      "grid_row": null,
      "grid_template_areas": null,
      "grid_template_columns": null,
      "grid_template_rows": null,
      "height": null,
      "justify_content": null,
      "justify_items": null,
      "left": null,
      "margin": null,
      "max_height": null,
      "max_width": null,
      "min_height": null,
      "min_width": null,
      "object_fit": null,
      "object_position": null,
      "order": null,
      "overflow": null,
      "overflow_x": null,
      "overflow_y": null,
      "padding": null,
      "right": null,
      "top": null,
      "visibility": null,
      "width": null
     }
    }
   }
  }
 },
 "nbformat": 4,
 "nbformat_minor": 4
}
