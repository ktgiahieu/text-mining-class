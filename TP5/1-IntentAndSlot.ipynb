{
 "cells": [
  {
   "cell_type": "markdown",
   "metadata": {},
   "source": [
    "# TP5 (1) - Dialogue Systems\n",
    "\n",
    "Group members:\n",
    "- Thanh Gia Hieu KHUONG\n",
    "- Ragi BHATT\n",
    "- Benedictus Kent RACHMAT "
   ]
  },
  {
   "cell_type": "code",
   "execution_count": 3,
   "metadata": {},
   "outputs": [],
   "source": [
    "!pip install -q datasets pandas matplotlib scikit-learn transformers rouge evaluate tqdm"
   ]
  },
  {
   "cell_type": "code",
   "execution_count": 3,
   "metadata": {},
   "outputs": [
    {
     "name": "stdout",
     "output_type": "stream",
     "text": [
      "unzip:  cannot find or open 1-IntentAndSlot.zip, 1-IntentAndSlot.zip.zip or 1-IntentAndSlot.zip.ZIP.\n"
     ]
    }
   ],
   "source": [
    "!wget https://gitlab.dsi.universite-paris-saclay.fr/thomas.gerald/textminingandchatbot/-/raw/main/tp/TP-1/tp-content.zip?ref_type=heads&inline=false\n",
    "!unzip tp-content.zip"
   ]
  },
  {
   "cell_type": "markdown",
   "metadata": {},
   "source": [
    "# JOINT INTENT DETECTION AND SLOT FILLING\n",
    "\n",
    "In this application we will develop different NLU systems on the ATIS, SNIPS and MEDIA datasets. The ATIS corpus a flight reservation dialogue dataset, the data are provided in the BIO format. The SNIPS corpus regroup different intent from reservation to playlist management. The MEDIA dataset is a french corpus on hotel booking however it is noisy (due to audio transcription)\n",
    "Two different approaches will be considered in the current application for intent detection :\n",
    "* Classifier on BOW like features\n",
    "* RNN with word embedding\n",
    "For slot filling the objectives is to implement an RNN (considering same model for intent detection and slot filling)\n"
   ]
  },
  {
   "cell_type": "code",
   "execution_count": 4,
   "metadata": {},
   "outputs": [],
   "source": [
    "import pandas as pd\n",
    "import numpy as np\n",
    "\n",
    "from matplotlib import pyplot as plt\n",
    "from collections import Counter\n",
    "import torch\n",
    "from torch import nn\n",
    "from torch.nn.utils.rnn import pad_sequence"
   ]
  },
  {
   "cell_type": "markdown",
   "metadata": {},
   "source": [
    "##  Part 1 : The dataset\n",
    "\n",
    "Explore the different dataset, how they are annotated and what are their specificities"
   ]
  },
  {
   "cell_type": "code",
   "execution_count": 108,
   "metadata": {},
   "outputs": [],
   "source": [
    "atis_data_path = 'data/NLU/atis-corpus/atis.{}.csv'\n",
    "snips_data_path = 'data/NLU/snips-corpus/snips.{}.csv'\n",
    "media_data_path = 'data/NLU/media-corpus/media.{}.csv'\n",
    "\n",
    "current_data_path = snips_data_path"
   ]
  },
  {
   "cell_type": "code",
   "execution_count": 109,
   "metadata": {},
   "outputs": [],
   "source": [
    "training_set = pd.read_csv(current_data_path.format('train'), index_col='id')\n",
    "validation_set = pd.read_csv(current_data_path.format('dev'), index_col='id')\n",
    "testing_set = pd.read_csv(current_data_path.format('test'), index_col='id')"
   ]
  },
  {
   "cell_type": "markdown",
   "metadata": {},
   "source": [
    "## 1.1 Plotting the data\n",
    "Plot both intent and slots for the different corpus"
   ]
  },
  {
   "cell_type": "code",
   "execution_count": 110,
   "metadata": {},
   "outputs": [
    {
     "data": {
      "image/png": "[encoded data removed]",
      "text/plain": [
       "<Figure size 432x288 with 1 Axes>"
      ]
     },
     "metadata": {
      "needs_background": "light"
     },
     "output_type": "display_data"
    }
   ],
   "source": [
    "# training_set.value_counts('intent').plot.bar()\n",
    "all_data = pd.concat([training_set, validation_set, testing_set])\n",
    "intent_counts = all_data.value_counts('intent')\n",
    "\n",
    "if not intent_counts.empty:\n",
    "    intent_counts.plot.bar()\n",
    "    plt.title('Train + Val + Test set')\n",
    "    plt.xlabel('Intent')\n",
    "    plt.ylabel('Number of samples')\n",
    "    plt.show()\n",
    "else:\n",
    "    print(\"No data available to plot.\")"
   ]
  },
  {
   "cell_type": "code",
   "execution_count": 111,
   "metadata": {},
   "outputs": [
    {
     "name": "stdout",
     "output_type": "stream",
     "text": [
      "Number of unique intents: 7\n",
      "Number of unique slots: 72\n",
      "Intent distribution:\n",
      "GetWeather              2100\n",
      "PlayMusic               2100\n",
      "BookRestaurant          2073\n",
      "SearchScreeningEvent    2059\n",
      "RateBook                2056\n",
      "SearchCreativeWork      2053\n",
      "AddToPlaylist           2042\n",
      "Name: intent, dtype: int64\n",
      "\n",
      "Slot distribution:\n",
      "O                               64291\n",
      "I-object_name                    8223\n",
      "I-playlist                       3610\n",
      "B-object_type                    3340\n",
      "B-object_name                    3086\n",
      "                                ...  \n",
      "I-cuisine                          33\n",
      "I-facility                         14\n",
      "I-object_select                     5\n",
      "I-object_part_of_series_type        3\n",
      "I-playlist_owner                    1\n",
      "Name: slots, Length: 72, dtype: int64\n",
      "\n"
     ]
    }
   ],
   "source": [
    "def analyze_dataset(data):\n",
    "    if 'intent' in data.columns:\n",
    "        unique_intents = data['intent'].nunique()\n",
    "        intent_distribution = data['intent'].value_counts()\n",
    "    else:\n",
    "        unique_intents = 0\n",
    "        intent_distribution = \"No intent column found.\"\n",
    "\n",
    "    all_slots = data['slots'].str.split().explode()\n",
    "    unique_slots = all_slots.nunique()\n",
    "    slot_distribution = all_slots.value_counts()\n",
    "\n",
    "    print(f\"Number of unique intents: {unique_intents}\")\n",
    "    print(f\"Number of unique slots: {unique_slots}\")\n",
    "    if unique_intents > 0:\n",
    "        print(f\"Intent distribution:\\n{intent_distribution}\\n\")\n",
    "    print(f\"Slot distribution:\\n{slot_distribution}\\n\")\n",
    "\n",
    "    return unique_intents, unique_slots, intent_distribution, slot_distribution\n",
    "\n",
    "analyse_data = analyze_dataset(all_data)\n"
   ]
  },
  {
   "cell_type": "markdown",
   "metadata": {},
   "source": [
    "## 1.2 Datasets characteristics [NOTE should we remove the O] ?\n",
    "\n",
    "### ATIS Dataset\n",
    "* **How many possible intents for the dataset?**\n",
    "  - Number of Intents: 17\n",
    "\n",
    "* **How many slots?**\n",
    "  - Number of Slots: 101\n",
    "\n",
    "* **How are they distributed? What are the most frequent values?**\n",
    "  - Most Frequent Intent: `atis_flight`\n",
    "  - Most Frequent Slot: `O`\n",
    "  - Intent Distribution: The intents are varied, with `atis_flight` being the most frequent.\n",
    "  - Slot Distribution: Most slots are 'O' (Outside), followed by location-based slots like `B-fromloc.city_name`.\n",
    "\n",
    "### Media Dataset\n",
    "* **How many possible intents for the dataset?**\n",
    "  - Number of Intents: 0 (Intents data appears to be missing or not properly labeled)\n",
    "\n",
    "* **How many slots?**\n",
    "  - Number of Slots: 151\n",
    "\n",
    "* **How are they distributed? What are the most frequent values?**\n",
    "  - Most Frequent Slot: `O`\n",
    "  - Slot Distribution: Majority are 'O' (Outside), followed by command-based slots like `reponse-B`.\n",
    "\n",
    "### SNIPS Dataset\n",
    "* **How many possible intents for the dataset?**\n",
    "  - Number of Intents: 7\n",
    "\n",
    "* **How many slots?**\n",
    "  - Number of Slots: 72\n",
    "\n",
    "* **How are they distributed? What are the most frequent values?**\n",
    "  - Most Frequent Intent: `GetWeather` and `PlayMusic`\n",
    "  - Most Frequent Slot: `O`\n",
    "  - Intent Distribution: Evenly distributed among intents.\n",
    "  - Slot Distribution: Primarily 'O' (Outside), with frequent entity names and playlist slots like `I-object_name`.\n"
   ]
  },
  {
   "cell_type": "markdown",
   "metadata": {},
   "source": [
    "## PART 2 Learning BOW classifiers \n",
    "From the code below propose different classifier for intent (for both snips and atis)"
   ]
  },
  {
   "cell_type": "code",
   "execution_count": 47,
   "metadata": {},
   "outputs": [
    {
     "name": "stdout",
     "output_type": "stream",
     "text": [
      "Model LogisticRegression : 0.9842857142857143\n",
      "Model MultinomialNB : 0.9771428571428571\n",
      "Model SVC : 0.9857142857142858\n"
     ]
    }
   ],
   "source": [
    "from sklearn.feature_extraction.text import TfidfTransformer\n",
    "from sklearn.feature_extraction.text import CountVectorizer \n",
    "\n",
    "from sklearn.linear_model import LogisticRegression\n",
    "from sklearn.naive_bayes import MultinomialNB\n",
    "from sklearn.svm import SVC\n",
    "\n",
    "from sklearn.pipeline import Pipeline\n",
    "\n",
    "LIST_MODEL = [LogisticRegression, MultinomialNB, SVC]\n",
    "\n",
    "for model in LIST_MODEL:\n",
    "    text_clf = Pipeline([\n",
    "        ('vect', CountVectorizer()),\n",
    "        ('tfidf', TfidfTransformer()),\n",
    "        ('clf', model()),\n",
    "    ])\n",
    "    text_clf.fit(training_set['tokens'], training_set['intent'])\n",
    "    predicted = text_clf.predict(validation_set['tokens'])\n",
    "    print(f\"Model {model.__name__} : {np.mean(predicted == validation_set['intent'])}\")"
   ]
  },
  {
   "cell_type": "markdown",
   "metadata": {},
   "source": [
    "Fill the following table replacing value and named classifiers\n",
    "\n",
    "| Dataset   | Acc Logistic Regression | Acc MultinomialNB |Acc SVM |\n",
    "| -------- | ------- |------- |------- |\n",
    "| ATIS  | 0.92    |0.84    | 0.95 |\n",
    "| SNIPS | 0.984     |0.97    |  0.985 |\n",
    "\n"
   ]
  },
  {
   "cell_type": "markdown",
   "metadata": {},
   "source": [
    "## PART 3 Learning RNN\n",
    "\n",
    "### 1.1 Prepare the data and tools\n",
    "The objective of the following question is to prepare the data to run with the model.\n",
    "In this example we will create different component :\n",
    "* intent_encoder (from textual intent return its id)\n",
    "* slot_encoder (from list or string separated by space of textual slot return id)\n",
    "* tokenizer (from list or string separated by space of textual slot return id)\n",
    "* BIONLUDataset a dataset like class returning all the information necessary for training\n",
    "* Dataloader that allow to create batch of the data (usefull for training)"
   ]
  },
  {
   "cell_type": "code",
   "execution_count": 115,
   "metadata": {},
   "outputs": [],
   "source": [
    "'''This class encode labels or list of labels given an index\n",
    "'''\n",
    "class LabelEncoder:\n",
    "    def __init__(self, index):\n",
    "        self.index = index\n",
    "        self.iindex = {v: k for k, v in index.items()}\n",
    "    \n",
    "    def get_id_list_from_text(self, text):\n",
    "        return [self.index[w] for w in text.split()]\n",
    "\n",
    "    def get_label_list_from_id(self, label_ids):\n",
    "         return [self.iindex[lid] for lid in label_ids]\n",
    "\n",
    "    def to_label_list(self, text):\n",
    "        return text.split()\n",
    "\n",
    "    # method call can be called by instance_object(parameters)\n",
    "    def __call__(self, text):\n",
    "        return self.get_id_list_from_text(text)"
   ]
  },
  {
   "cell_type": "code",
   "execution_count": 116,
   "metadata": {},
   "outputs": [],
   "source": [
    "def create_label_index(labels):\n",
    "    \"\"\"Create an index (dictionary) for labels.\"\"\"\n",
    "    label_to_id = {}\n",
    "    for label in labels:\n",
    "        if label not in label_to_id:\n",
    "            label_to_id[label] = len(label_to_id)\n",
    "    return label_to_id\n",
    "\n",
    "intents = training_set['intent'].unique()\n",
    "slots = set(slot for row in training_set['slots'] for slot in row.split())\n",
    "\n",
    "intent_index = create_label_index(intents)\n",
    "slot_index = create_label_index(slots)"
   ]
  },
  {
   "cell_type": "code",
   "execution_count": 117,
   "metadata": {},
   "outputs": [],
   "source": [
    "intent_encoder = LabelEncoder(intent_index)\n",
    "slot_encoder = LabelEncoder(slot_index)"
   ]
  },
  {
   "cell_type": "markdown",
   "metadata": {},
   "source": [
    "### Create a tokenizer\n",
    "Fill the Tokenizer class to transform text tokens into token ids. From a list of words (or string of wards separated by space) return a sequence of ids (each word as a unique id)."
   ]
  },
  {
   "cell_type": "code",
   "execution_count": 121,
   "metadata": {},
   "outputs": [],
   "source": [
    "'''This class should tokenize a text or a list of tokens.\n",
    "'''  \n",
    "class Tokenizer:\n",
    "\n",
    "    def __init__(self, list_text, unk_token=\"UNKNOW_WORD\"):\n",
    "        # create a vocbulary index \n",
    "        self.vocab = np.unique([word for text in list_text for word in text.split()])\n",
    "        self.vocab_index = {w: i for i, w in enumerate(self.vocab)}\n",
    "        self.vocab_index[unk_token] = len(self.vocab_index)\n",
    "        self.unk_token = unk_token\n",
    "        \n",
    "    def __call__(self, text):\n",
    "        # Tokenize the text or word sequence\n",
    "        if isinstance(text, list):\n",
    "            return [self.vocab_index.get(word, self.vocab_index[self.unk_token]) for word in text]\n",
    "        else:\n",
    "            return [self.vocab_index.get(word, self.vocab_index[self.unk_token]) for word in text.split()]\n",
    "\n",
    "    def decode(self, ids):\n",
    "        # Decode the text ids to a sentence\n",
    "        index_to_vocab = {i: w for w, i in self.vocab_index.items()}\n",
    "        return ' '.join(index_to_vocab.get(id, self.unk_token) for id in ids)\n",
    "        \n",
    "    def __len__(self):\n",
    "        # get the vocabulary lenght\n",
    "        return len(self.vocab)"
   ]
  },
  {
   "cell_type": "code",
   "execution_count": 122,
   "metadata": {},
   "outputs": [],
   "source": [
    "tokenizer = Tokenizer(\n",
    "    list(training_set['tokens']) + \n",
    "    list(validation_set['tokens']) + \n",
    "    list(testing_set['tokens'])\n",
    ")"
   ]
  },
  {
   "cell_type": "markdown",
   "metadata": {},
   "source": [
    "### Create the dataset\n",
    "\n",
    "The dataset class below must return all needed informations for prediction, here the **text** (initial utterance), the intent label name (**i_label**), the list of slots names for the sequence (**s_label**), the text transformed into list of tokens(**x**), the id of the coresponding intent (**i_id**), the list of ids of the coresponding slots names (**s_ids**) and, the len of the squence (the number of words) (**seq_len**)."
   ]
  },
  {
   "cell_type": "code",
   "execution_count": 124,
   "metadata": {},
   "outputs": [],
   "source": [
    "class BIONLUDataset():\n",
    "    def __init__(self, data, intent_index, slot_index, text_transform):\n",
    "        self.data = data\n",
    "        self.i_enc = LabelEncoder(intent_index)\n",
    "        self.s_enc = LabelEncoder(slot_index)\n",
    "        self.t_transform = text_transform\n",
    "\n",
    "    def __len__(self):\n",
    "        return len(self.data)\n",
    "\n",
    "    def __getitem__(self, index):\n",
    "        row = self.data.iloc[index]\n",
    "        text = row['tokens']\n",
    "        i_label = row['intent']\n",
    "        s_label = row['slots']\n",
    "        \n",
    "        x = self.t_transform(text)\n",
    "        i_id = self.i_enc(i_label)[0]\n",
    "        s_ids = self.s_enc(s_label)\n",
    "        \n",
    "        assert(len(s_ids) == len(x))\n",
    "        \n",
    "        return {'text': text, 'i_label': i_label, 's_labels': s_label,\n",
    "                'x': x, 'i_id': i_id, 's_ids': s_ids, \"seq_len\": len(x)}"
   ]
  },
  {
   "cell_type": "markdown",
   "metadata": {},
   "source": [
    "**Create the different set :** below we create the different, for each we give the set data, the intent_index (to allow to transform intent label to its corresponding id), the slot_index (to transform slot_type to id) and the tokenizer (which simply split text by words and return the sequence of tokens/words ids)."
   ]
  },
  {
   "cell_type": "code",
   "execution_count": 125,
   "metadata": {},
   "outputs": [],
   "source": [
    "# create a simple tokenizer on all words of the corpus \n",
    "\n",
    "train = BIONLUDataset(training_set, intent_index, slot_index, tokenizer)\n",
    "val = BIONLUDataset(validation_set, intent_index, slot_index, tokenizer)\n",
    "test = BIONLUDataset(testing_set, intent_index, slot_index, tokenizer)"
   ]
  },
  {
   "cell_type": "markdown",
   "metadata": {},
   "source": [
    "**The collate function:** to load the data as batch we need to return tensors to the pytorch model we will see later. Here we need as input of the model the intents ids, the slots_ids (which is a sequence of the size of text), the input given to the model (named x)."
   ]
  },
  {
   "cell_type": "code",
   "execution_count": 59,
   "metadata": {},
   "outputs": [],
   "source": [
    "def rnn_collator(batch):\n",
    "    i_ids = []\n",
    "    seq_len = []\n",
    "    s_ids = []\n",
    "    x = []\n",
    "    mask = []\n",
    "    for item in batch:\n",
    "        i_ids.append(item['i_id'])\n",
    "        s_ids.append(torch.LongTensor(item['s_ids']))\n",
    "        seq_len.append(item['seq_len'])\n",
    "        x.append(torch.Tensor(item['x']))\n",
    "        mask.append(torch.ones(item['seq_len']))\n",
    "\n",
    "    return{\n",
    "        \"i_ids\" : torch.LongTensor(i_ids),\n",
    "        \"s_ids\" : pad_sequence(s_ids, padding_value=-1, batch_first=True),\n",
    "        \"x\" : pad_sequence(x, padding_value=0, batch_first=True),\n",
    "        \"seq_len\" : torch.LongTensor(seq_len), \n",
    "        \"mask\": pad_sequence(mask, padding_value=0, batch_first=True)\n",
    "    }"
   ]
  },
  {
   "cell_type": "code",
   "execution_count": 61,
   "metadata": {},
   "outputs": [],
   "source": [
    "from torch.utils.data import DataLoader\n",
    "\n",
    "training_dl = DataLoader(train , batch_size=16,\n",
    "                         collate_fn=rnn_collator,\n",
    "                         shuffle=True\n",
    "                        )\n",
    "validation_dl = DataLoader(val, batch_size=16,\n",
    "                         collate_fn=rnn_collator\n",
    "                        )"
   ]
  },
  {
   "cell_type": "markdown",
   "metadata": {},
   "source": [
    "### 1.2 Create the model"
   ]
  },
  {
   "cell_type": "code",
   "execution_count": 76,
   "metadata": {},
   "outputs": [],
   "source": [
    "from library.model import IntentSlotRNN\n",
    "\n",
    "class LSTMForClassification(nn.Module):\n",
    "    def __init__(self, vocabulary_size, embedding_size=300, hidden_size=100, n_slot=101, n_intent=17):\n",
    "        super().__init__()\n",
    "        self.embedding = nn.Embedding(vocabulary_size, embedding_size)\n",
    "        self.rnn = IntentSlotRNN(embedding_size, hidden_size, n_intent, n_slot)\n",
    "    \n",
    "    def forward(self, input_ids, seq_len, mask=None):\n",
    "        if mask is None:\n",
    "            mask = input_ids.new_ones(input_ids.shape).float()\n",
    "        input_ids = input_ids.long()  # Convert input_ids to LongTensor\n",
    "        emb = self.embedding(input_ids)\n",
    "        return self.rnn(emb, seq_len, mask)"
   ]
  },
  {
   "cell_type": "markdown",
   "metadata": {},
   "source": [
    "### 1.3 Training the model"
   ]
  },
  {
   "cell_type": "code",
   "execution_count": 64,
   "metadata": {},
   "outputs": [],
   "source": [
    "from tqdm.notebook import trange\n",
    "from torch import optim\n",
    "from torch import nn\n",
    "\n",
    "class Trainer():\n",
    "    def __init__(self, model):\n",
    "        self.model = model \n",
    "        self.optimizer = None\n",
    "\n",
    "    def before_training_loop(self, learning_rate = 1e-3):\n",
    "        self.optimizer = optim.Adam(self.model.parameters(), lr=learning_rate)\n",
    "        self.criterion = nn.CrossEntropyLoss(ignore_index=-1)\n",
    "\n",
    "    def validation_step(self, data):\n",
    "        y_pred = self.model(data[\"x\"], data[\"seq_len\"], data['mask'])    \n",
    "        y_intent_truth = data[\"i_ids\"]\n",
    "        y_slot_truth = data[\"s_ids\"]\n",
    "        #print(y_slot_truth)\n",
    "        y_intent_pred = y_pred[\"y_intent\"]\n",
    "        #print(y_pred[\"y_slot\"].shape)\n",
    "        y_slot_pred = y_pred[\"y_slot\"].view(y_slot_truth.shape[0] * y_slot_truth.shape[-1], -1)\n",
    "        minus_one = (data[\"mask\"] - 1)\n",
    "        y_slot_pred *= data[\"mask\"].view(y_slot_truth.shape[0] * y_slot_truth.shape[-1], -1)\n",
    "        # y_slot_pred += minus_one.view(y_slot_truth.shape[0] * y_slot_truth.shape[-1], -1)\n",
    "        return {\n",
    "            'mask' : minus_one.view(y_slot_truth.shape[0] * y_slot_truth.shape[-1], -1),\n",
    "            'len' : len(data['x']),\n",
    "            'intent_pred': y_intent_pred,\n",
    "            'intent_truth': y_intent_truth,\n",
    "            'slot_pred': y_slot_pred,\n",
    "            'slot_truth': y_slot_truth\n",
    "        }\n",
    "\n",
    "    def training_step(self, data):\n",
    "        y_pred = self.model(data[\"x\"], data[\"seq_len\"], data['mask'])    \n",
    "        y_intent_truth = data[\"i_ids\"]\n",
    "        y_slot_truth = data[\"s_ids\"]\n",
    "        loss_intent = self.criterion(y_pred[\"y_intent\"], y_intent_truth)\n",
    "\n",
    "        y_slot_pred = y_pred[\"y_slot\"].view(y_slot_truth.shape[0] * y_slot_truth.shape[-1], -1)\n",
    "        y_slot_pred *= data[\"mask\"].view(y_slot_truth.shape[0] * y_slot_truth.shape[-1], -1)\n",
    "            \n",
    "        loss_slot = self.criterion(y_slot_pred, y_slot_truth.view(-1))\n",
    "        (loss_slot + loss_intent).backward()\n",
    "        return loss_slot.item() + loss_intent.item()\n",
    "\n",
    "    def on_validation_end(self, resp):\n",
    "        i_truth = [d[\"intent_truth\"] for d in resp]\n",
    "        s_truth = [d[\"slot_truth\"].flatten() for d in resp]\n",
    "        \n",
    "        i_pred = [d[\"intent_pred\"] for d in resp]\n",
    "        s_pred =  [d[\"slot_pred\"].argmax(-1).flatten() + d['mask'].max(-1).values.flatten() for d in resp]\n",
    "        size = sum([d['len'] for d in resp ])\n",
    "        print('Intent validation accuracy : %s'%(((torch.cat(i_pred).argmax(-1) == torch.cat(i_truth)).sum()/size).item(),))\n",
    "        print('Slot validation accuracy : %s'%(((torch.cat(s_pred) == torch.cat(s_truth)).sum()/len(torch.cat(s_truth))).item(),))\n",
    "        print(\"-------------------------------\")\n",
    "    \n",
    "    def validation(self, validation_dl):\n",
    "        with torch.no_grad():\n",
    "            resp = []\n",
    "            for data in validation_dl:\n",
    "                resp.append(self.validation_step(data))\n",
    "        self.on_validation_end(resp)\n",
    "\n",
    "    def fit(self, \n",
    "            training_dl,\n",
    "            validation_dl,\n",
    "            learning_rate = 1e-3,\n",
    "            validation_frequency = 128,\n",
    "            max_iter = 10000,\n",
    "        ):\n",
    "\n",
    "        self.before_training_loop(learning_rate)\n",
    "        \n",
    "        iter_count = 0\n",
    "        loss_buffer = []\n",
    "        pbar = trange(max_iter)\n",
    "        \n",
    "        while(True):\n",
    "            for data in training_dl:\n",
    "                self.optimizer.zero_grad()\n",
    "                loss_buffer += [self.training_step(data)]\n",
    "                self.optimizer.step()\n",
    "\n",
    "                if(iter_count  % validation_frequency == 0):\n",
    "                    print(\"Loss at iteration %s is %s\"%(iter_count, np.mean(loss_buffer)))\n",
    "                    self.validation(validation_dl)\n",
    "\n",
    "                iter_count += 1\n",
    "                if(iter_count >= max_iter):\n",
    "                    return\n",
    "                pbar.update(1)"
   ]
  },
  {
   "cell_type": "code",
   "execution_count": 126,
   "metadata": {},
   "outputs": [],
   "source": [
    "vocabulary_size = len(tokenizer)\n",
    "model = LSTMForClassification(vocabulary_size)\n",
    "trainer = Trainer(model)\n",
    "trainer.fit(training_dl, validation_dl, validation_frequency=500)"
   ]
  },
  {
   "cell_type": "markdown",
   "metadata": {},
   "source": [
    "### 1.4 Evaluate the model on the test set using accuracy\n",
    "* Hint : see validation step"
   ]
  },
  {
   "cell_type": "code",
   "execution_count": 74,
   "metadata": {},
   "outputs": [],
   "source": [
    "class NLU:\n",
    "    def __init__(self, model, intent_encoder, slot_encoder, nlp):\n",
    "        self.nlp = nlp\n",
    "        self.model = model \n",
    "        self.intent_encoder = intent_encoder\n",
    "        self.slot_encoder = slot_encoder\n",
    "    \n",
    "    def __call__(self, text):\n",
    "        input_data = self.nlp(text)\n",
    "        with torch.no_grad():\n",
    "            y = self.model(torch.LongTensor([input_data]),  [len(input_data)])\n",
    "\n",
    "        intent = self.intent_encoder.get_label_list_from_id(y['y_intent'].max(-1)[1].tolist())\n",
    "\n",
    "        slots = self.slot_encoder.get_label_list_from_id(y['y_slot'].max(-1)[1].tolist()[0])\n",
    "        return intent, list(zip(slots, text.split()))"
   ]
  },
  {
   "cell_type": "code",
   "execution_count": null,
   "metadata": {},
   "outputs": [],
   "source": [
    "nlu = NLU(trainer.model, intent_encoder, slot_encoder, naive_tokenizer)\n",
    "nlu(\"i'm looking for a good restauranta in chicago\")\n",
    "\n",
    "# what is naive_tokenizer?"
   ]
  },
  {
   "cell_type": "code",
   "execution_count": null,
   "metadata": {},
   "outputs": [],
   "source": [
    "raise NotImplementedError"
   ]
  },
  {
   "cell_type": "markdown",
   "metadata": {},
   "source": [
    "### 1.5 Change the model to use pretrained embeddings !\n",
    "* You can use global pretrained embeddings for SNIPS and ATIS\n",
    "* You can use pretrained last week course embeddings for MEDIA !!! "
   ]
  },
  {
   "cell_type": "code",
   "execution_count": null,
   "metadata": {},
   "outputs": [],
   "source": []
  }
 ],
 "metadata": {
  "accelerator": "GPU",
  "colab": {
   "authorship_tag": "ABX9TyNS/a2Yg3HaV1/6sqmOr4GR",
   "gpuType": "T4",
   "include_colab_link": true,
   "provenance": []
  },
  "kernelspec": {
   "display_name": "Python 3 (ipykernel)",
   "language": "python",
   "name": "python3"
  },
  "language_info": {
   "codemirror_mode": {
    "name": "ipython",
    "version": 3
   },
   "file_extension": ".py",
   "mimetype": "text/x-python",
   "name": "python",
   "nbconvert_exporter": "python",
   "pygments_lexer": "ipython3",
   "version": "3.9.12"
  },
  "widgets": {
   "application/vnd.jupyter.widget-state+json": {
    "11b8dba1f8894009898f592b28bca05d": {
     "model_module": "@jupyter-widgets/controls",
     "model_module_version": "1.5.0",
     "model_name": "DescriptionStyleModel",
     "state": {
      "_model_module": "@jupyter-widgets/controls",
      "_model_module_version": "1.5.0",
      "_model_name": "DescriptionStyleModel",
      "_view_count": null,
      "_view_module": "@jupyter-widgets/base",
      "_view_module_version": "1.2.0",
      "_view_name": "StyleView",
      "description_width": ""
     }
    },
    "187480090f634458a999041d31807714": {
     "model_module": "@jupyter-widgets/controls",
     "model_module_version": "1.5.0",
     "model_name": "HTMLModel",
     "state": {
      "_dom_classes": [],
      "_model_module": "@jupyter-widgets/controls",
      "_model_module_version": "1.5.0",
      "_model_name": "HTMLModel",
      "_view_count": null,
      "_view_module": "@jupyter-widgets/controls",
      "_view_module_version": "1.5.0",
      "_view_name": "HTMLView",
      "description": "",
      "description_tooltip": null,
      "layout": "IPY_MODEL_87ecdd23e58f4b8295d249c3d8e6077e",
      "placeholder": "​",
      "style": "IPY_MODEL_11b8dba1f8894009898f592b28bca05d",
      "value": "100%"
     }
    },
    "38ce3b07782e41b3b27e54f5816d0b8d": {
     "model_module": "@jupyter-widgets/base",
     "model_module_version": "1.2.0",
     "model_name": "LayoutModel",
     "state": {
      "_model_module": "@jupyter-widgets/base",
      "_model_module_version": "1.2.0",
      "_model_name": "LayoutModel",
      "_view_count": null,
      "_view_module": "@jupyter-widgets/base",
      "_view_module_version": "1.2.0",
      "_view_name": "LayoutView",
      "align_content": null,
      "align_items": null,
      "align_self": null,
      "border": null,
      "bottom": null,
      "display": null,
      "flex": null,
      "flex_flow": null,
      "grid_area": null,
      "grid_auto_columns": null,
      "grid_auto_flow": null,
      "grid_auto_rows": null,
      "grid_column": null,
      "grid_gap": null,
      "grid_row": null,
      "grid_template_areas": null,
      "grid_template_columns": null,
      "grid_template_rows": null,
      "height": null,
      "justify_content": null,
      "justify_items": null,
      "left": null,
      "margin": null,
      "max_height": null,
      "max_width": null,
      "min_height": null,
      "min_width": null,
      "object_fit": null,
      "object_position": null,
      "order": null,
      "overflow": null,
      "overflow_x": null,
      "overflow_y": null,
      "padding": null,
      "right": null,
      "top": null,
      "visibility": null,
      "width": null
     }
    },
    "62f56530a42a4d2d993f70829d18c563": {
     "model_module": "@jupyter-widgets/controls",
     "model_module_version": "1.5.0",
     "model_name": "DescriptionStyleModel",
     "state": {
      "_model_module": "@jupyter-widgets/controls",
      "_model_module_version": "1.5.0",
      "_model_name": "DescriptionStyleModel",
      "_view_count": null,
      "_view_module": "@jupyter-widgets/base",
      "_view_module_version": "1.2.0",
      "_view_name": "StyleView",
      "description_width": ""
     }
    },
    "64da4ffa91de4c12870ccd829905597c": {
     "model_module": "@jupyter-widgets/controls",
     "model_module_version": "1.5.0",
     "model_name": "ProgressStyleModel",
     "state": {
      "_model_module": "@jupyter-widgets/controls",
      "_model_module_version": "1.5.0",
      "_model_name": "ProgressStyleModel",
      "_view_count": null,
      "_view_module": "@jupyter-widgets/base",
      "_view_module_version": "1.2.0",
      "_view_name": "StyleView",
      "bar_color": null,
      "description_width": ""
     }
    },
    "6e7fada25dd94569933bb3c14527dcb8": {
     "model_module": "@jupyter-widgets/controls",
     "model_module_version": "1.5.0",
     "model_name": "HTMLModel",
     "state": {
      "_dom_classes": [],
      "_model_module": "@jupyter-widgets/controls",
      "_model_module_version": "1.5.0",
      "_model_name": "HTMLModel",
      "_view_count": null,
      "_view_module": "@jupyter-widgets/controls",
      "_view_module_version": "1.5.0",
      "_view_name": "HTMLView",
      "description": "",
      "description_tooltip": null,
      "layout": "IPY_MODEL_38ce3b07782e41b3b27e54f5816d0b8d",
      "placeholder": "​",
      "style": "IPY_MODEL_62f56530a42a4d2d993f70829d18c563",
      "value": " 10000/10000 [02:41&lt;00:00, 94.43it/s]"
     }
    },
    "838873ce9ea94fa790a463524c18ffa5": {
     "model_module": "@jupyter-widgets/base",
     "model_module_version": "1.2.0",
     "model_name": "LayoutModel",
     "state": {
      "_model_module": "@jupyter-widgets/base",
      "_model_module_version": "1.2.0",
      "_model_name": "LayoutModel",
      "_view_count": null,
      "_view_module": "@jupyter-widgets/base",
      "_view_module_version": "1.2.0",
      "_view_name": "LayoutView",
      "align_content": null,
      "align_items": null,
      "align_self": null,
      "border": null,
      "bottom": null,
      "display": null,
      "flex": null,
      "flex_flow": null,
      "grid_area": null,
      "grid_auto_columns": null,
      "grid_auto_flow": null,
      "grid_auto_rows": null,
      "grid_column": null,
      "grid_gap": null,
      "grid_row": null,
      "grid_template_areas": null,
      "grid_template_columns": null,
      "grid_template_rows": null,
      "height": null,
      "justify_content": null,
      "justify_items": null,
      "left": null,
      "margin": null,
      "max_height": null,
      "max_width": null,
      "min_height": null,
      "min_width": null,
      "object_fit": null,
      "object_position": null,
      "order": null,
      "overflow": null,
      "overflow_x": null,
      "overflow_y": null,
      "padding": null,
      "right": null,
      "top": null,
      "visibility": null,
      "width": null
     }
    },
    "87ecdd23e58f4b8295d249c3d8e6077e": {
     "model_module": "@jupyter-widgets/base",
     "model_module_version": "1.2.0",
     "model_name": "LayoutModel",
     "state": {
      "_model_module": "@jupyter-widgets/base",
      "_model_module_version": "1.2.0",
      "_model_name": "LayoutModel",
      "_view_count": null,
      "_view_module": "@jupyter-widgets/base",
      "_view_module_version": "1.2.0",
      "_view_name": "LayoutView",
      "align_content": null,
      "align_items": null,
      "align_self": null,
      "border": null,
      "bottom": null,
      "display": null,
      "flex": null,
      "flex_flow": null,
      "grid_area": null,
      "grid_auto_columns": null,
      "grid_auto_flow": null,
      "grid_auto_rows": null,
      "grid_column": null,
      "grid_gap": null,
      "grid_row": null,
      "grid_template_areas": null,
      "grid_template_columns": null,
      "grid_template_rows": null,
      "height": null,
      "justify_content": null,
      "justify_items": null,
      "left": null,
      "margin": null,
      "max_height": null,
      "max_width": null,
      "min_height": null,
      "min_width": null,
      "object_fit": null,
      "object_position": null,
      "order": null,
      "overflow": null,
      "overflow_x": null,
      "overflow_y": null,
      "padding": null,
      "right": null,
      "top": null,
      "visibility": null,
      "width": null
     }
    },
    "945c208409a148809c60485d3826a935": {
     "model_module": "@jupyter-widgets/controls",
     "model_module_version": "1.5.0",
     "model_name": "HBoxModel",
     "state": {
      "_dom_classes": [],
      "_model_module": "@jupyter-widgets/controls",
      "_model_module_version": "1.5.0",
      "_model_name": "HBoxModel",
      "_view_count": null,
      "_view_module": "@jupyter-widgets/controls",
      "_view_module_version": "1.5.0",
      "_view_name": "HBoxView",
      "box_style": "",
      "children": [
       "IPY_MODEL_187480090f634458a999041d31807714",
       "IPY_MODEL_966427dbfc0140109f73ee3cce25928e",
       "IPY_MODEL_6e7fada25dd94569933bb3c14527dcb8"
      ],
      "layout": "IPY_MODEL_c89204b1a50f4915bf96f4cc9280ad0e"
     }
    },
    "966427dbfc0140109f73ee3cce25928e": {
     "model_module": "@jupyter-widgets/controls",
     "model_module_version": "1.5.0",
     "model_name": "FloatProgressModel",
     "state": {
      "_dom_classes": [],
      "_model_module": "@jupyter-widgets/controls",
      "_model_module_version": "1.5.0",
      "_model_name": "FloatProgressModel",
      "_view_count": null,
      "_view_module": "@jupyter-widgets/controls",
      "_view_module_version": "1.5.0",
      "_view_name": "ProgressView",
      "bar_style": "success",
      "description": "",
      "description_tooltip": null,
      "layout": "IPY_MODEL_838873ce9ea94fa790a463524c18ffa5",
      "max": 10000,
      "min": 0,
      "orientation": "horizontal",
      "style": "IPY_MODEL_64da4ffa91de4c12870ccd829905597c",
      "value": 10000
     }
    },
    "c89204b1a50f4915bf96f4cc9280ad0e": {
     "model_module": "@jupyter-widgets/base",
     "model_module_version": "1.2.0",
     "model_name": "LayoutModel",
     "state": {
      "_model_module": "@jupyter-widgets/base",
      "_model_module_version": "1.2.0",
      "_model_name": "LayoutModel",
      "_view_count": null,
      "_view_module": "@jupyter-widgets/base",
      "_view_module_version": "1.2.0",
      "_view_name": "LayoutView",
      "align_content": null,
      "align_items": null,
      "align_self": null,
      "border": null,
      "bottom": null,
      "display": null,
      "flex": null,
      "flex_flow": null,
      "grid_area": null,
      "grid_auto_columns": null,
      "grid_auto_flow": null,
      "grid_auto_rows": null,
      "grid_column": null,
      "grid_gap": null,
      "grid_row": null,
      "grid_template_areas": null,
      "grid_template_columns": null,
      "grid_template_rows": null,
      "height": null,
      "justify_content": null,
      "justify_items": null,
      "left": null,
      "margin": null,
      "max_height": null,
      "max_width": null,
      "min_height": null,
      "min_width": null,
      "object_fit": null,
      "object_position": null,
      "order": null,
      "overflow": null,
      "overflow_x": null,
      "overflow_y": null,
      "padding": null,
      "right": null,
      "top": null,
      "visibility": null,
      "width": null
     }
    }
   }
  }
 },
 "nbformat": 4,
 "nbformat_minor": 4
}
