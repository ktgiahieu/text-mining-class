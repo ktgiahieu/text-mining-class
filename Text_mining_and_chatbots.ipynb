{
  "cells": [
    {
      "cell_type": "markdown",
      "metadata": {
        "id": "view-in-github",
        "colab_type": "text"
      },
      "source": [
        "<a href=\"https://colab.research.google.com/github/ktgiahieu/text-mining-class/blob/master/Text_mining_and_chatbots.ipynb\" target=\"_parent\"><img src=\"https://colab.research.google.com/assets/colab-badge.svg\" alt=\"Open In Colab\"/></a>"
      ]
    },
    {
      "cell_type": "markdown",
      "source": [
        "# TP1 - Text-mining and chatbots\n",
        "**Students**:\n",
        "- Thanh Gia Hieu KHUONG\n",
        "- Ragi BHATT\n",
        "- Benedictus Kent RACHMAT"
      ],
      "metadata": {
        "id": "OK9DUA1qI6A8"
      }
    },
    {
      "cell_type": "markdown",
      "source": [
        "# Install the spacy library"
      ],
      "metadata": {
        "id": "kFgJZ-P3JNNZ"
      }
    },
    {
      "cell_type": "code",
      "source": [
        "import spacy\n",
        "from spacy import displacy\n",
        "from nltk.parse.stanford import StanfordParser"
      ],
      "metadata": {
        "id": "I-0azAleE_L_"
      },
      "execution_count": 13,
      "outputs": []
    },
    {
      "cell_type": "code",
      "source": [
        "!python -m spacy download fr_core_news_sm"
      ],
      "metadata": {
        "colab": {
          "base_uri": "https://localhost:8080/"
        },
        "id": "n5L4ChvjFqU_",
        "outputId": "145c79f0-af60-41a5-8010-0bbeb15893bb"
      },
      "execution_count": 23,
      "outputs": [
        {
          "output_type": "stream",
          "name": "stdout",
          "text": [
            "2024-01-16 21:20:05.544638: E external/local_xla/xla/stream_executor/cuda/cuda_dnn.cc:9261] Unable to register cuDNN factory: Attempting to register factory for plugin cuDNN when one has already been registered\n",
            "2024-01-16 21:20:05.544748: E external/local_xla/xla/stream_executor/cuda/cuda_fft.cc:607] Unable to register cuFFT factory: Attempting to register factory for plugin cuFFT when one has already been registered\n",
            "2024-01-16 21:20:05.549880: E external/local_xla/xla/stream_executor/cuda/cuda_blas.cc:1515] Unable to register cuBLAS factory: Attempting to register factory for plugin cuBLAS when one has already been registered\n",
            "2024-01-16 21:20:07.050993: W tensorflow/compiler/tf2tensorrt/utils/py_utils.cc:38] TF-TRT Warning: Could not find TensorRT\n",
            "Collecting fr-core-news-sm==3.6.0\n",
            "  Downloading https://github.com/explosion/spacy-models/releases/download/fr_core_news_sm-3.6.0/fr_core_news_sm-3.6.0-py3-none-any.whl (16.3 MB)\n",
            "\u001b[2K     \u001b[90m━━━━━━━━━━━━━━━━━━━━━━━━━━━━━━━━━━━━━━━━\u001b[0m \u001b[32m16.3/16.3 MB\u001b[0m \u001b[31m50.7 MB/s\u001b[0m eta \u001b[36m0:00:00\u001b[0m\n",
            "\u001b[?25hRequirement already satisfied: spacy<3.7.0,>=3.6.0 in /usr/local/lib/python3.10/dist-packages (from fr-core-news-sm==3.6.0) (3.6.1)\n",
            "Requirement already satisfied: spacy-legacy<3.1.0,>=3.0.11 in /usr/local/lib/python3.10/dist-packages (from spacy<3.7.0,>=3.6.0->fr-core-news-sm==3.6.0) (3.0.12)\n",
            "Requirement already satisfied: spacy-loggers<2.0.0,>=1.0.0 in /usr/local/lib/python3.10/dist-packages (from spacy<3.7.0,>=3.6.0->fr-core-news-sm==3.6.0) (1.0.5)\n",
            "Requirement already satisfied: murmurhash<1.1.0,>=0.28.0 in /usr/local/lib/python3.10/dist-packages (from spacy<3.7.0,>=3.6.0->fr-core-news-sm==3.6.0) (1.0.10)\n",
            "Requirement already satisfied: cymem<2.1.0,>=2.0.2 in /usr/local/lib/python3.10/dist-packages (from spacy<3.7.0,>=3.6.0->fr-core-news-sm==3.6.0) (2.0.8)\n",
            "Requirement already satisfied: preshed<3.1.0,>=3.0.2 in /usr/local/lib/python3.10/dist-packages (from spacy<3.7.0,>=3.6.0->fr-core-news-sm==3.6.0) (3.0.9)\n",
            "Requirement already satisfied: thinc<8.2.0,>=8.1.8 in /usr/local/lib/python3.10/dist-packages (from spacy<3.7.0,>=3.6.0->fr-core-news-sm==3.6.0) (8.1.12)\n",
            "Requirement already satisfied: wasabi<1.2.0,>=0.9.1 in /usr/local/lib/python3.10/dist-packages (from spacy<3.7.0,>=3.6.0->fr-core-news-sm==3.6.0) (1.1.2)\n",
            "Requirement already satisfied: srsly<3.0.0,>=2.4.3 in /usr/local/lib/python3.10/dist-packages (from spacy<3.7.0,>=3.6.0->fr-core-news-sm==3.6.0) (2.4.8)\n",
            "Requirement already satisfied: catalogue<2.1.0,>=2.0.6 in /usr/local/lib/python3.10/dist-packages (from spacy<3.7.0,>=3.6.0->fr-core-news-sm==3.6.0) (2.0.10)\n",
            "Requirement already satisfied: typer<0.10.0,>=0.3.0 in /usr/local/lib/python3.10/dist-packages (from spacy<3.7.0,>=3.6.0->fr-core-news-sm==3.6.0) (0.9.0)\n",
            "Requirement already satisfied: pathy>=0.10.0 in /usr/local/lib/python3.10/dist-packages (from spacy<3.7.0,>=3.6.0->fr-core-news-sm==3.6.0) (0.10.3)\n",
            "Requirement already satisfied: smart-open<7.0.0,>=5.2.1 in /usr/local/lib/python3.10/dist-packages (from spacy<3.7.0,>=3.6.0->fr-core-news-sm==3.6.0) (6.4.0)\n",
            "Requirement already satisfied: tqdm<5.0.0,>=4.38.0 in /usr/local/lib/python3.10/dist-packages (from spacy<3.7.0,>=3.6.0->fr-core-news-sm==3.6.0) (4.66.1)\n",
            "Requirement already satisfied: numpy>=1.15.0 in /usr/local/lib/python3.10/dist-packages (from spacy<3.7.0,>=3.6.0->fr-core-news-sm==3.6.0) (1.23.5)\n",
            "Requirement already satisfied: requests<3.0.0,>=2.13.0 in /usr/local/lib/python3.10/dist-packages (from spacy<3.7.0,>=3.6.0->fr-core-news-sm==3.6.0) (2.31.0)\n",
            "Requirement already satisfied: pydantic!=1.8,!=1.8.1,<3.0.0,>=1.7.4 in /usr/local/lib/python3.10/dist-packages (from spacy<3.7.0,>=3.6.0->fr-core-news-sm==3.6.0) (1.10.13)\n",
            "Requirement already satisfied: jinja2 in /usr/local/lib/python3.10/dist-packages (from spacy<3.7.0,>=3.6.0->fr-core-news-sm==3.6.0) (3.1.3)\n",
            "Requirement already satisfied: setuptools in /usr/local/lib/python3.10/dist-packages (from spacy<3.7.0,>=3.6.0->fr-core-news-sm==3.6.0) (67.7.2)\n",
            "Requirement already satisfied: packaging>=20.0 in /usr/local/lib/python3.10/dist-packages (from spacy<3.7.0,>=3.6.0->fr-core-news-sm==3.6.0) (23.2)\n",
            "Requirement already satisfied: langcodes<4.0.0,>=3.2.0 in /usr/local/lib/python3.10/dist-packages (from spacy<3.7.0,>=3.6.0->fr-core-news-sm==3.6.0) (3.3.0)\n",
            "Requirement already satisfied: typing-extensions>=4.2.0 in /usr/local/lib/python3.10/dist-packages (from pydantic!=1.8,!=1.8.1,<3.0.0,>=1.7.4->spacy<3.7.0,>=3.6.0->fr-core-news-sm==3.6.0) (4.5.0)\n",
            "Requirement already satisfied: charset-normalizer<4,>=2 in /usr/local/lib/python3.10/dist-packages (from requests<3.0.0,>=2.13.0->spacy<3.7.0,>=3.6.0->fr-core-news-sm==3.6.0) (3.3.2)\n",
            "Requirement already satisfied: idna<4,>=2.5 in /usr/local/lib/python3.10/dist-packages (from requests<3.0.0,>=2.13.0->spacy<3.7.0,>=3.6.0->fr-core-news-sm==3.6.0) (3.6)\n",
            "Requirement already satisfied: urllib3<3,>=1.21.1 in /usr/local/lib/python3.10/dist-packages (from requests<3.0.0,>=2.13.0->spacy<3.7.0,>=3.6.0->fr-core-news-sm==3.6.0) (2.0.7)\n",
            "Requirement already satisfied: certifi>=2017.4.17 in /usr/local/lib/python3.10/dist-packages (from requests<3.0.0,>=2.13.0->spacy<3.7.0,>=3.6.0->fr-core-news-sm==3.6.0) (2023.11.17)\n",
            "Requirement already satisfied: blis<0.8.0,>=0.7.8 in /usr/local/lib/python3.10/dist-packages (from thinc<8.2.0,>=8.1.8->spacy<3.7.0,>=3.6.0->fr-core-news-sm==3.6.0) (0.7.11)\n",
            "Requirement already satisfied: confection<1.0.0,>=0.0.1 in /usr/local/lib/python3.10/dist-packages (from thinc<8.2.0,>=8.1.8->spacy<3.7.0,>=3.6.0->fr-core-news-sm==3.6.0) (0.1.4)\n",
            "Requirement already satisfied: click<9.0.0,>=7.1.1 in /usr/local/lib/python3.10/dist-packages (from typer<0.10.0,>=0.3.0->spacy<3.7.0,>=3.6.0->fr-core-news-sm==3.6.0) (8.1.7)\n",
            "Requirement already satisfied: MarkupSafe>=2.0 in /usr/local/lib/python3.10/dist-packages (from jinja2->spacy<3.7.0,>=3.6.0->fr-core-news-sm==3.6.0) (2.1.3)\n",
            "\u001b[38;5;2m✔ Download and installation successful\u001b[0m\n",
            "You can now load the package via spacy.load('fr_core_news_sm')\n"
          ]
        }
      ]
    },
    {
      "cell_type": "code",
      "source": [
        "nlp_en = spacy.load(\"en_core_web_sm\")\n",
        "nlp_fr = spacy.load(\"fr_core_news_sm\")"
      ],
      "metadata": {
        "id": "yBJuPCVPFHDE"
      },
      "execution_count": 24,
      "outputs": []
    },
    {
      "cell_type": "code",
      "source": [
        "def spacy_analysis_relations(sentences, model):\n",
        "    for sentence in sentences:\n",
        "        doc = model(sentence)\n",
        "        print(f\"Sentence: {sentence}\\n\")\n",
        "        print(\"Part-of-Speech Tagging:\")\n",
        "        for token in doc:\n",
        "            print(f\"{token.text:15} {token.pos_:7}\")\n",
        "\n",
        "        print(\"\\nRelations Between Words:\")\n",
        "        for token in doc:\n",
        "\n",
        "            for child in token.children:\n",
        "                print(f\"{child.text}-{child.dep_}-{token.text}\")\n",
        "        print(\"\\n\")\n",
        "        displacy.render(doc, style='dep',jupyter=True)"
      ],
      "metadata": {
        "id": "tpReHvq8E-R2"
      },
      "execution_count": 25,
      "outputs": []
    },
    {
      "cell_type": "markdown",
      "source": [
        "# Question 1a: ”Jean mange une pomme.” / ”John eats an apple."
      ],
      "metadata": {
        "id": "CsoddbvnE6oV"
      }
    },
    {
      "cell_type": "markdown",
      "source": [
        "## Manual\n",
        "\n",
        "## Part-of-Speech Tagging\n",
        "- **Jean**: NAME\n",
        "- **mange**: VERB\n",
        "- **une**: DET\n",
        "- **pomme**: NOUN\n",
        "- **.**: PUNCT\n",
        "\n",
        "## Relations Between Words\n",
        "- **Jean**-(subj)-**mange**\n",
        "- **une**-(det)-**pomme**\n",
        "- **pomme**-(obj)-**mange**\n",
        "- **mange**-(punct)-**.**"
      ],
      "metadata": {
        "id": "NqGQmwF-FcXC"
      }
    },
    {
      "cell_type": "markdown",
      "source": [
        "## CoreNLP\n"
      ],
      "metadata": {
        "id": "FaMiVvboIwIV"
      }
    },
    {
      "cell_type": "markdown",
      "source": [
        "## SpaCy"
      ],
      "metadata": {
        "id": "iYaJ3A-KIusj"
      }
    },
    {
      "cell_type": "code",
      "source": [
        "spacy_analysis_relations([\"Jean mange une pomme.\"], nlp_fr)"
      ],
      "metadata": {
        "colab": {
          "base_uri": "https://localhost:8080/",
          "height": 619
        },
        "id": "BGc1feeoE8Uv",
        "outputId": "2a12ce03-06de-4222-8eb9-3f9c5124d8fa"
      },
      "execution_count": 20,
      "outputs": [
        {
          "output_type": "stream",
          "name": "stdout",
          "text": [
            "Sentence: Jean mange une pomme.\n",
            "\n",
            "Part-of-Speech Tagging:\n",
            "Jean            PROPN  \n",
            "mange           VERB   \n",
            "une             DET    \n",
            "pomme           NOUN   \n",
            ".               PUNCT  \n",
            "\n",
            "Relations Between Words:\n",
            "Jean-nsubj-mange\n",
            "pomme-obj-mange\n",
            ".-punct-mange\n",
            "une-det-pomme\n",
            "\n",
            "\n"
          ]
        },
        {
          "output_type": "display_data",
          "data": {
            "text/plain": [
              "<IPython.core.display.HTML object>"
            ],
            "text/html": [
              "<span class=\"tex2jax_ignore\"><svg xmlns=\"http://www.w3.org/2000/svg\" xmlns:xlink=\"http://www.w3.org/1999/xlink\" xml:lang=\"fr\" id=\"4a5af79442164fb3a56c164a939b7ab3-0\" class=\"displacy\" width=\"750\" height=\"312.0\" direction=\"ltr\" style=\"max-width: none; height: 312.0px; color: #000000; background: #ffffff; font-family: Arial; direction: ltr\">\n",
              "<text class=\"displacy-token\" fill=\"currentColor\" text-anchor=\"middle\" y=\"222.0\">\n",
              "    <tspan class=\"displacy-word\" fill=\"currentColor\" x=\"50\">Jean</tspan>\n",
              "    <tspan class=\"displacy-tag\" dy=\"2em\" fill=\"currentColor\" x=\"50\">PROPN</tspan>\n",
              "</text>\n",
              "\n",
              "<text class=\"displacy-token\" fill=\"currentColor\" text-anchor=\"middle\" y=\"222.0\">\n",
              "    <tspan class=\"displacy-word\" fill=\"currentColor\" x=\"225\">mange</tspan>\n",
              "    <tspan class=\"displacy-tag\" dy=\"2em\" fill=\"currentColor\" x=\"225\">VERB</tspan>\n",
              "</text>\n",
              "\n",
              "<text class=\"displacy-token\" fill=\"currentColor\" text-anchor=\"middle\" y=\"222.0\">\n",
              "    <tspan class=\"displacy-word\" fill=\"currentColor\" x=\"400\">une</tspan>\n",
              "    <tspan class=\"displacy-tag\" dy=\"2em\" fill=\"currentColor\" x=\"400\">DET</tspan>\n",
              "</text>\n",
              "\n",
              "<text class=\"displacy-token\" fill=\"currentColor\" text-anchor=\"middle\" y=\"222.0\">\n",
              "    <tspan class=\"displacy-word\" fill=\"currentColor\" x=\"575\">pomme.</tspan>\n",
              "    <tspan class=\"displacy-tag\" dy=\"2em\" fill=\"currentColor\" x=\"575\">NOUN</tspan>\n",
              "</text>\n",
              "\n",
              "<g class=\"displacy-arrow\">\n",
              "    <path class=\"displacy-arc\" id=\"arrow-4a5af79442164fb3a56c164a939b7ab3-0-0\" stroke-width=\"2px\" d=\"M70,177.0 C70,89.5 220.0,89.5 220.0,177.0\" fill=\"none\" stroke=\"currentColor\"/>\n",
              "    <text dy=\"1.25em\" style=\"font-size: 0.8em; letter-spacing: 1px\">\n",
              "        <textPath xlink:href=\"#arrow-4a5af79442164fb3a56c164a939b7ab3-0-0\" class=\"displacy-label\" startOffset=\"50%\" side=\"left\" fill=\"currentColor\" text-anchor=\"middle\">nsubj</textPath>\n",
              "    </text>\n",
              "    <path class=\"displacy-arrowhead\" d=\"M70,179.0 L62,167.0 78,167.0\" fill=\"currentColor\"/>\n",
              "</g>\n",
              "\n",
              "<g class=\"displacy-arrow\">\n",
              "    <path class=\"displacy-arc\" id=\"arrow-4a5af79442164fb3a56c164a939b7ab3-0-1\" stroke-width=\"2px\" d=\"M420,177.0 C420,89.5 570.0,89.5 570.0,177.0\" fill=\"none\" stroke=\"currentColor\"/>\n",
              "    <text dy=\"1.25em\" style=\"font-size: 0.8em; letter-spacing: 1px\">\n",
              "        <textPath xlink:href=\"#arrow-4a5af79442164fb3a56c164a939b7ab3-0-1\" class=\"displacy-label\" startOffset=\"50%\" side=\"left\" fill=\"currentColor\" text-anchor=\"middle\">det</textPath>\n",
              "    </text>\n",
              "    <path class=\"displacy-arrowhead\" d=\"M420,179.0 L412,167.0 428,167.0\" fill=\"currentColor\"/>\n",
              "</g>\n",
              "\n",
              "<g class=\"displacy-arrow\">\n",
              "    <path class=\"displacy-arc\" id=\"arrow-4a5af79442164fb3a56c164a939b7ab3-0-2\" stroke-width=\"2px\" d=\"M245,177.0 C245,2.0 575.0,2.0 575.0,177.0\" fill=\"none\" stroke=\"currentColor\"/>\n",
              "    <text dy=\"1.25em\" style=\"font-size: 0.8em; letter-spacing: 1px\">\n",
              "        <textPath xlink:href=\"#arrow-4a5af79442164fb3a56c164a939b7ab3-0-2\" class=\"displacy-label\" startOffset=\"50%\" side=\"left\" fill=\"currentColor\" text-anchor=\"middle\">obj</textPath>\n",
              "    </text>\n",
              "    <path class=\"displacy-arrowhead\" d=\"M575.0,179.0 L583.0,167.0 567.0,167.0\" fill=\"currentColor\"/>\n",
              "</g>\n",
              "</svg></span>"
            ]
          },
          "metadata": {}
        }
      ]
    },
    {
      "cell_type": "code",
      "source": [
        "spacy_analysis_relations([\"John eats an apple.\"], nlp_en)"
      ],
      "metadata": {
        "colab": {
          "base_uri": "https://localhost:8080/"
        },
        "id": "QrckdR4IE8Wr",
        "outputId": "f3e2f360-ee37-4fa0-a394-a832729cb5ef"
      },
      "execution_count": 12,
      "outputs": [
        {
          "output_type": "stream",
          "name": "stdout",
          "text": [
            "Sentence: John eats an apple.\n",
            "\n",
            "Part-of-Speech Tagging:\n",
            "John            PROPN  \n",
            "eats            VERB   \n",
            "an              DET    \n",
            "apple           NOUN   \n",
            ".               PUNCT  \n",
            "\n",
            "Relations Between Words:\n",
            "John-nsubj-eats\n",
            "apple-dobj-eats\n",
            ".-punct-eats\n",
            "an-det-apple\n",
            "\n",
            "\n"
          ]
        }
      ]
    },
    {
      "cell_type": "code",
      "source": [],
      "metadata": {
        "id": "8jdQfFYvE8ZB"
      },
      "execution_count": null,
      "outputs": []
    },
    {
      "cell_type": "code",
      "source": [],
      "metadata": {
        "id": "nficBByEE8bX"
      },
      "execution_count": null,
      "outputs": []
    },
    {
      "cell_type": "code",
      "source": [],
      "metadata": {
        "id": "kV-ADK2VE8de"
      },
      "execution_count": null,
      "outputs": []
    },
    {
      "cell_type": "code",
      "source": [],
      "metadata": {
        "id": "VBqJMbXgE8fs"
      },
      "execution_count": null,
      "outputs": []
    },
    {
      "cell_type": "code",
      "source": [],
      "metadata": {
        "id": "fF6WVnFWE8h0"
      },
      "execution_count": null,
      "outputs": []
    },
    {
      "cell_type": "code",
      "source": [],
      "metadata": {
        "id": "zXLqTsOAE8kH"
      },
      "execution_count": null,
      "outputs": []
    },
    {
      "cell_type": "code",
      "source": [],
      "metadata": {
        "id": "4l0L04DYE8mf"
      },
      "execution_count": null,
      "outputs": []
    },
    {
      "cell_type": "code",
      "source": [],
      "metadata": {
        "id": "7lLhK9WYE8o1"
      },
      "execution_count": null,
      "outputs": []
    },
    {
      "cell_type": "code",
      "source": [],
      "metadata": {
        "id": "rzii0rRPE8rI"
      },
      "execution_count": null,
      "outputs": []
    },
    {
      "cell_type": "markdown",
      "source": [
        "## Sentence\n",
        "\"John eats an apple.\"\n",
        "\n",
        "## Part-of-Speech Tagging\n",
        "- **John**: NAME\n",
        "- **eats**: VERB\n",
        "- **an**: DET\n",
        "- **apple**: NOUN\n",
        "- **.**: PUNCT\n",
        "\n",
        "## Relations Between Words\n",
        "- **John**-(subj)-**eats**\n",
        "- **an**-(det)-**apple**\n",
        "- **apple**-(obj)-**eats**\n",
        "- **eats**-(punct)-**.**\n",
        "\n",
        "## Sentence\n",
        "\"Vous prétendez que vous connaissez le mobile du crime.\"\n",
        "\n",
        "## Part-of-Speech Tagging\n",
        "- **Vous**: PRO\n",
        "- **prétendez**: VERB\n",
        "- **que**: CONJ\n",
        "- **vous**: PRO\n",
        "- **connaissez**: VERB\n",
        "- **le**: DET\n",
        "- **mobile**: NOUN\n",
        "- **du**: PREP\n",
        "- **crime**: NOUN\n",
        "- **.**: PUNCT\n",
        "\n",
        "## Relations Between Words\n",
        "- **Vous**-(subj)-**prétendez**\n",
        "- **que**-(mark)-**connaissez**\n",
        "- **vous**-(nsubj)-**connaissez**\n",
        "- **le**-(det)-**mobile**\n",
        "- **du**-(prep)-**crime**\n",
        "- **crime**-(pobj)-**du**\n",
        "- **mobile**-(obj)-**connaissez**\n",
        "- **prétendez**-(punct)-**.**\n",
        "\n",
        "## Sentence\n",
        "\"You claim to know the motive for the crime.\"\n",
        "\n",
        "## Part-of-Speech Tagging\n",
        "- **You**: PRO\n",
        "- **claim**: VERB\n",
        "- **to**: PART\n",
        "- **know**: VERB\n",
        "- **the**: DET\n",
        "- **motive**: NOUN\n",
        "- **for**: PREP\n",
        "- **the**: DET\n",
        "- **crime**: NOUN\n",
        "- **.**: PUNCT\n",
        "\n",
        "## Relations Between Words\n",
        "- **You**-(subj)-**claim**\n",
        "- **to**-(aux)-**know**\n",
        "- **the**-(det)-**motive**\n",
        "- **motive**-(dobj)-**know**\n",
        "- **for**-(prep)-**crime**\n",
        "- **the**-(det)-**crime**\n",
        "- **crime**-(pobj)-**for**\n",
        "- **claim**-(xcomp)-**know**\n",
        "- **claim**-(punct)-**.**\n",
        "\n",
        "## Sentence\n",
        "\"Elle voit le chat qui saute de la fenêtre.\"\n",
        "\n",
        "## Part-of-Speech Tagging\n",
        "- **Elle**: PRO\n",
        "- **voit**: VERB\n",
        "- **le**: DET\n",
        "- **chat**: NOUN\n",
        "- **qui**: PRO\n",
        "- **saute**: VERB\n",
        "- **de**: PREP\n",
        "- **la**: DET\n",
        "- **fenêtre**: NOUN\n",
        "- **.**: PUNCT\n",
        "\n",
        "## Relations Between\n",
        "\n",
        "Words\n",
        "- **Elle**-(subj)-**voit**\n",
        "- **le**-(det)-**chat**\n",
        "- **chat**-(obj)-**voit**\n",
        "- **qui**-(nsubj)-**saute**\n",
        "- **saute**-(relcl)-**chat**\n",
        "- **de**-(prep)-**fenêtre**\n",
        "- **la**-(det)-**fenêtre**\n",
        "- **fenêtre**-(pobj)-**de**\n",
        "- **voit**-(punct)-**.**\n",
        "\n",
        "## Sentence\n",
        "\"She sees the cat jumping out of the window.\"\n",
        "\n",
        "## Part-of-Speech Tagging\n",
        "- **She**: PRO\n",
        "- **sees**: VERB\n",
        "- **the**: DET\n",
        "- **cat**: NOUN\n",
        "- **jumping**: VERB\n",
        "- **out**: PREP\n",
        "- **of**: PREP\n",
        "- **the**: DET\n",
        "- **window**: NOUN\n",
        "- **.**: PUNCT\n",
        "\n",
        "## Relations Between Words\n",
        "- **She**-(subj)-**sees**\n",
        "- **the**-(det)-**cat**\n",
        "- **cat**-(obj)-**sees**\n",
        "- **jumping**-(xcomp)-**cat**\n",
        "- **out**-(prep)-**jumping**\n",
        "- **of**-(prep)-**window**\n",
        "- **the**-(det)-**window**\n",
        "- **window**-(pobj)-**of**\n",
        "- **sees**-(punct)-**.**\n",
        "\n",
        "## Sentence\n",
        "\"Je me suis fait ghoster par mon crush, depuis je bade.\"\n",
        "\n",
        "## Part-of-Speech Tagging\n",
        "- **Je**: PRO\n",
        "- **me**: PRO\n",
        "- **suis**: AUX\n",
        "- **fait**: VERB\n",
        "- **ghoster**: VERB\n",
        "- **par**: PREP\n",
        "- **mon**: DET\n",
        "- **crush**: NOUN\n",
        "- **depuis**: ADV\n",
        "- **je**: PRO\n",
        "- **bade**: VERB\n",
        "- **.**: PUNCT\n",
        "\n",
        "## Relations Between Words\n",
        "- **Je**-(nsubjpass)-**fait**\n",
        "- **me**-(obj)-**fait**\n",
        "- **suis**-(auxpass)-**fait**\n",
        "- **ghoster**-(xcomp)-**fait**\n",
        "- **par**-(prep)-**crush**\n",
        "- **mon**-(det)-**crush**\n",
        "- **crush**-(pobj)-**par**\n",
        "- **depuis**-(advmod)-**bade**\n",
        "- **je**-(nsubj)-**bade**\n",
        "- **fait**-(advcl)-**bade**\n",
        "- **bade**-(punct)-**.**\n",
        "\n",
        "## Sentence\n",
        "\"I have been ghosted by my crush, then I am bading.\"\n",
        "\n",
        "## Part-of-Speech Tagging\n",
        "- **I**: PRO\n",
        "- **have**: AUX\n",
        "- **been**: AUX\n",
        "- **ghosted**: VERB\n",
        "- **by**: PREP\n",
        "- **my**: DET\n",
        "- **crush**: NOUN\n",
        "- **then**: ADV\n",
        "- **I**: PRO\n",
        "- **am**: AUX\n",
        "- **bading**: VERB\n",
        "- **.**: PUNCT\n",
        "\n",
        "## Relations Between Words\n",
        "- **I**-(nsubjpass)-**ghosted**\n",
        "- **have**-(aux)-**ghosted**\n",
        "- **been**-(auxpass)-**ghosted**\n",
        "- **by**-(prep)-**crush**\n",
        "- **my**-(det)-**crush**\n",
        "- **crush**-(pobj)-**by**\n",
        "- **then**-(advmod)-**am**\n",
        "- **I**-(nsubj\n",
        "\n",
        "- **am**-(ROOT)-**bading**\n",
        "- **bading**-(xcomp)-**am**\n",
        "- **ghosted**-(advcl)-**am**\n",
        "- **am**-(punct)-**.**"
      ],
      "metadata": {
        "id": "rUI-7UpXIZP7"
      }
    }
  ],
  "metadata": {
    "kernelspec": {
      "display_name": "Python 3",
      "name": "python3"
    },
    "language_info": {
      "codemirror_mode": {
        "name": "ipython",
        "version": 3
      },
      "file_extension": ".py",
      "mimetype": "text/x-python",
      "name": "python",
      "nbconvert_exporter": "python",
      "pygments_lexer": "ipython3",
      "version": "3.9.12"
    },
    "colab": {
      "provenance": [],
      "include_colab_link": true
    }
  },
  "nbformat": 4,
  "nbformat_minor": 0
}